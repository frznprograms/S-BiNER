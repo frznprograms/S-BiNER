{
 "cells": [
  {
   "cell_type": "code",
   "execution_count": 2,
   "id": "2b3617e3",
   "metadata": {},
   "outputs": [
    {
     "name": "stderr",
     "output_type": "stream",
     "text": [
      "/Users/shaneryan_1/Downloads/binary_align_zh/.venv/lib/python3.12/site-packages/tqdm/auto.py:21: TqdmWarning: IProgress not found. Please update jupyter and ipywidgets. See https://ipywidgets.readthedocs.io/en/stable/user_install.html\n",
      "  from .autonotebook import tqdm as notebook_tqdm\n",
      "/Users/shaneryan_1/Downloads/binary_align_zh/.venv/lib/python3.12/site-packages/phrasetree/tree.py:32: SyntaxWarning: invalid escape sequence '\\ '\n",
      "  \"\"\"\n",
      "/Users/shaneryan_1/Downloads/binary_align_zh/.venv/lib/python3.12/site-packages/phrasetree/tree.py:645: SyntaxWarning: invalid escape sequence '\\s'\n",
      "  if re.search('\\s', brackets):\n",
      "/Users/shaneryan_1/Downloads/binary_align_zh/.venv/lib/python3.12/site-packages/phrasetree/tree.py:651: SyntaxWarning: invalid escape sequence '\\s'\n",
      "  node_pattern = '[^\\s%s%s]+' % (open_pattern, close_pattern)\n",
      "/Users/shaneryan_1/Downloads/binary_align_zh/.venv/lib/python3.12/site-packages/phrasetree/tree.py:653: SyntaxWarning: invalid escape sequence '\\s'\n",
      "  leaf_pattern = '[^\\s%s%s]+' % (open_pattern, close_pattern)\n",
      "/Users/shaneryan_1/Downloads/binary_align_zh/.venv/lib/python3.12/site-packages/phrasetree/tree.py:655: SyntaxWarning: invalid escape sequence '\\s'\n",
      "  '%s\\s*(%s)?|%s|(%s)'\n",
      "/Users/shaneryan_1/Downloads/binary_align_zh/.venv/lib/python3.12/site-packages/phrasetree/tree.py:830: SyntaxWarning: invalid escape sequence '\\$'\n",
      "  reserved_chars = re.compile('([#\\$%&~_\\{\\}])')\n",
      "/Users/shaneryan_1/Downloads/binary_align_zh/.venv/lib/python3.12/site-packages/phrasetree/grammar.py:1166: SyntaxWarning: invalid escape sequence '\\w'\n",
      "  _STANDARD_NONTERM_RE = re.compile('( [\\w/][\\w/^<>-]* ) \\s*', re.VERBOSE)\n"
     ]
    }
   ],
   "source": [
    "from transformers import AutoTokenizer\n",
    "import hanlp"
   ]
  },
  {
   "cell_type": "code",
   "execution_count": 11,
   "id": "aa64489a",
   "metadata": {},
   "outputs": [
    {
     "data": {
      "text/plain": [
       "['Shin', '##gam', '##u', 'Sai', 'A', '##jay']"
      ]
     },
     "execution_count": 11,
     "metadata": {},
     "output_type": "execute_result"
    }
   ],
   "source": [
    "target_tok = AutoTokenizer.from_pretrained(\"bert-large-cased\")\n",
    "target_tok.tokenize(\"Shingamu Sai Ajay\")"
   ]
  },
  {
   "cell_type": "code",
   "execution_count": 12,
   "id": "d2bd4688",
   "metadata": {},
   "outputs": [
    {
     "data": {
      "text/plain": [
       "['Christian', 'Asher', 'W', '##id', '##ja', '##ja']"
      ]
     },
     "execution_count": 12,
     "metadata": {},
     "output_type": "execute_result"
    }
   ],
   "source": [
    "target_tok.tokenize(\"Christian Asher Widjaja\")"
   ]
  },
  {
   "cell_type": "code",
   "execution_count": 13,
   "id": "553f7cc8",
   "metadata": {},
   "outputs": [
    {
     "data": {
      "text/plain": [
       "['Ra', '##gh', '##av', 'Narayan', '##s', '##wamy']"
      ]
     },
     "execution_count": 13,
     "metadata": {},
     "output_type": "execute_result"
    }
   ],
   "source": [
    "target_tok.tokenize(\"Raghav Narayanswamy\")"
   ]
  },
  {
   "cell_type": "code",
   "execution_count": 7,
   "id": "63928aa4",
   "metadata": {},
   "outputs": [
    {
     "name": "stderr",
     "output_type": "stream",
     "text": [
      "Downloading https://file.hankcs.com/hanlp/tok/coarse_electra_small_20220616_012050.zip to /Users/shaneryan_1/.hanlp/tok/coarse_electra_small_20220616_012050.zip\n",
      "100%  43.5 MiB   3.2 KiB/s ETA:  0 s [=========================================]\n",
      "Decompressing /Users/shaneryan_1/.hanlp/tok/coarse_electra_small_20220616_012050.zip to /Users/shaneryan_1/.hanlp/tok\n",
      "Downloading https://file.hankcs.com/hanlp/utils/char_table_20210602_202632.json.zip to /Users/shaneryan_1/.hanlp/utils/char_table_20210602_202632.json.zip\n",
      "100%  26.7 KiB  26.7 KiB/s ETA:  0 s [=========================================]\n",
      "Decompressing /Users/shaneryan_1/.hanlp/utils/char_table_20210602_202632.json.zip to /Users/shaneryan_1/.hanlp/utils\n",
      "Downloading https://file.hankcs.com/hanlp/transformers/electra_zh_small_20210706_125427.zip to /Users/shaneryan_1/.hanlp/transformers/electra_zh_small_20210706_125427.zip\n",
      "100%  41.2 KiB  41.2 KiB/s ETA:  0 s [=========================================]\n",
      "Decompressing /Users/shaneryan_1/.hanlp/transformers/electra_zh_small_20210706_125427.zip to /Users/shaneryan_1/.hanlp/transformers\n",
      "                                   \r"
     ]
    },
    {
     "data": {
      "text/plain": [
       "['康体通', '—', '网上', '租订', '康体', '设施', '及', '康体', '活动', '报名', '服务']"
      ]
     },
     "execution_count": 7,
     "metadata": {},
     "output_type": "execute_result"
    }
   ],
   "source": [
    "source_tok = hanlp.load(hanlp.pretrained.tok.COARSE_ELECTRA_SMALL_ZH)\n",
    "source_tok(\"康体通—网上租订康体设施及康体活动报名服务\")"
   ]
  },
  {
   "cell_type": "code",
   "execution_count": 15,
   "id": "7af05b57",
   "metadata": {},
   "outputs": [
    {
     "data": {
      "text/plain": [
       "[['康体通', '—', '网上', '租订', '康体', '设施', '及', '康体', '活动', '报名', '服务'],\n",
       " ['毕加索', '珍品', '展', '最后', '阶段', '门票', '发售']]"
      ]
     },
     "execution_count": 15,
     "metadata": {},
     "output_type": "execute_result"
    }
   ],
   "source": [
    "source_tok([\"康体通—网上租订康体设施及康体活动报名服务\", \"毕加索珍品展最后阶段门票发售\"])"
   ]
  },
  {
   "cell_type": "code",
   "execution_count": null,
   "id": "8d6e405a",
   "metadata": {},
   "outputs": [],
   "source": []
  }
 ],
 "metadata": {
  "kernelspec": {
   "display_name": "binary-align-zh",
   "language": "python",
   "name": "python3"
  },
  "language_info": {
   "codemirror_mode": {
    "name": "ipython",
    "version": 3
   },
   "file_extension": ".py",
   "mimetype": "text/x-python",
   "name": "python",
   "nbconvert_exporter": "python",
   "pygments_lexer": "ipython3",
   "version": "3.12.2"
  }
 },
 "nbformat": 4,
 "nbformat_minor": 5
}
