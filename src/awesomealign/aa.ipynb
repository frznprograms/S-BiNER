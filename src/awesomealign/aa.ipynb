{
 "cells": [
  {
   "cell_type": "code",
   "execution_count": 1,
   "id": "93c8761c",
   "metadata": {},
   "outputs": [
    {
     "name": "stdout",
     "output_type": "stream",
     "text": [
      "Added to Python path: /Users/shaneryan_1/Downloads/binary_align_zh\n",
      "Current working directory: /Users/shaneryan_1/Downloads/binary_align_zh/src/awesomealign\n",
      "✅ 'src' directory found - imports should work now\n"
     ]
    }
   ],
   "source": [
    "import sys\n",
    "from pathlib import Path\n",
    "\n",
    "# Add project root to Python path\n",
    "current_dir = Path.cwd()\n",
    "project_root = (\n",
    "    current_dir.parent.parent if current_dir.name == \"awesomealign\" else current_dir\n",
    ")\n",
    "sys.path.insert(0, str(project_root))\n",
    "\n",
    "print(f\"Added to Python path: {project_root}\")\n",
    "print(f\"Current working directory: {current_dir}\")\n",
    "\n",
    "# Verify the fix worked\n",
    "if (project_root / \"src\").exists():\n",
    "    print(\"✅ 'src' directory found - imports should work now\")\n",
    "else:\n",
    "    print(\"❌ 'src' directory not found - check your project structure\")"
   ]
  },
  {
   "cell_type": "code",
   "execution_count": 20,
   "id": "2b3617e3",
   "metadata": {},
   "outputs": [],
   "source": [
    "import hanlp\n",
    "import pandas as pd\n",
    "from transformers import AutoTokenizer\n",
    "\n",
    "from src.awesomealign.awesome_align_data import AwesomeAlignDataset"
   ]
  },
  {
   "cell_type": "code",
   "execution_count": 3,
   "id": "aa64489a",
   "metadata": {},
   "outputs": [
    {
     "data": {
      "text/plain": [
       "['Shin', '##gam', '##u', 'Sai', 'A', '##jay']"
      ]
     },
     "execution_count": 3,
     "metadata": {},
     "output_type": "execute_result"
    }
   ],
   "source": [
    "target_tok = AutoTokenizer.from_pretrained(\"bert-large-cased\")\n",
    "target_tok.tokenize(\"Shingamu Sai Ajay\")"
   ]
  },
  {
   "cell_type": "code",
   "execution_count": 4,
   "id": "d2bd4688",
   "metadata": {},
   "outputs": [
    {
     "data": {
      "text/plain": [
       "['Christian', 'Asher', 'W', '##id', '##ja', '##ja']"
      ]
     },
     "execution_count": 4,
     "metadata": {},
     "output_type": "execute_result"
    }
   ],
   "source": [
    "target_tok.tokenize(\"Christian Asher Widjaja\")"
   ]
  },
  {
   "cell_type": "code",
   "execution_count": 5,
   "id": "553f7cc8",
   "metadata": {},
   "outputs": [
    {
     "data": {
      "text/plain": [
       "['Ra', '##gh', '##av', 'Narayan', '##s', '##wamy']"
      ]
     },
     "execution_count": 5,
     "metadata": {},
     "output_type": "execute_result"
    }
   ],
   "source": [
    "target_tok.tokenize(\"Raghav Narayanswamy\")"
   ]
  },
  {
   "cell_type": "code",
   "execution_count": null,
   "id": "63928aa4",
   "metadata": {},
   "outputs": [
    {
     "name": "stderr",
     "output_type": "stream",
     "text": [
      "                                   \r"
     ]
    },
    {
     "data": {
      "text/plain": [
       "['康体通', '—', '网上', '租订', '康体', '设施', '及', '康体', '活动', '报名', '服务']"
      ]
     },
     "execution_count": 6,
     "metadata": {},
     "output_type": "execute_result"
    }
   ],
   "source": [
    "source_tok = hanlp.load(hanlp.pretrained.tok.COARSE_ELECTRA_SMALL_ZH)  # type: ignore\n",
    "source_tok(\"康体通—网上租订康体设施及康体活动报名服务\")"
   ]
  },
  {
   "cell_type": "code",
   "execution_count": 7,
   "id": "7af05b57",
   "metadata": {},
   "outputs": [],
   "source": [
    "res = source_tok(\n",
    "    [\"康体通—网上租订康体设施及康体活动报名服务\", \"毕加索珍品展最后阶段门票发售\"]\n",
    ")"
   ]
  },
  {
   "cell_type": "code",
   "execution_count": 8,
   "id": "8d6e405a",
   "metadata": {},
   "outputs": [
    {
     "data": {
      "text/plain": [
       "['康体通 — 网上 租订 康体 设施 及 康体 活动 报名 服务', '毕加索 珍品 展 最后 阶段 门票 发售']"
      ]
     },
     "execution_count": 8,
     "metadata": {},
     "output_type": "execute_result"
    }
   ],
   "source": [
    "res = list(map(lambda x: \" \".join(x), res))\n",
    "res"
   ]
  },
  {
   "cell_type": "code",
   "execution_count": 9,
   "id": "b793cfb3",
   "metadata": {},
   "outputs": [
    {
     "data": {
      "text/plain": [
       "'康体通 — 网上 租订 康体 设施 及 康体 活动 报名 服务'"
      ]
     },
     "execution_count": 9,
     "metadata": {},
     "output_type": "execute_result"
    }
   ],
   "source": [
    "res[0]"
   ]
  },
  {
   "cell_type": "code",
   "execution_count": 10,
   "id": "d859445c",
   "metadata": {},
   "outputs": [
    {
     "data": {
      "text/plain": [
       "'毕加索 珍品 展 最后 阶段 门票 发售'"
      ]
     },
     "execution_count": 10,
     "metadata": {},
     "output_type": "execute_result"
    }
   ],
   "source": [
    "res[1]"
   ]
  },
  {
   "cell_type": "code",
   "execution_count": null,
   "id": "467e415a",
   "metadata": {},
   "outputs": [
    {
     "name": "stderr",
     "output_type": "stream",
     "text": [
      "\u001b[32m2025-07-09 14:57:32.411\u001b[0m | \u001b[1mINFO    \u001b[0m | \u001b[36msrc.awesomealign.awesome_align_data\u001b[0m:\u001b[36m__post_init__\u001b[0m:\u001b[36m23\u001b[0m - \u001b[1mLoading Chinese tokenizer...\u001b[0m\n",
      "\u001b[32m2025-07-09 14:57:32.727\u001b[0m | \u001b[1mINFO    \u001b[0m | \u001b[36msrc.awesomealign.awesome_align_data\u001b[0m:\u001b[36mread_data\u001b[0m:\u001b[36m45\u001b[0m - \u001b[1mReading data from ../../data/raw_data/UN.txt...\u001b[0m\n",
      "\u001b[32m2025-07-09 14:58:52.841\u001b[0m | \u001b[32m\u001b[1mSUCCESS \u001b[0m | \u001b[36msrc.awesomealign.awesome_align_data\u001b[0m:\u001b[36mread_data\u001b[0m:\u001b[36m76\u001b[0m - \u001b[32m\u001b[1mRead data from ../../data/raw_data/UN.txt.\u001b[0m\n",
      "\u001b[32m2025-07-09 14:58:52.845\u001b[0m | \u001b[32m\u001b[1mSUCCESS \u001b[0m | \u001b[36msrc.utils.decorators\u001b[0m:\u001b[36mwrapper\u001b[0m:\u001b[36m16\u001b[0m - \u001b[32m\u001b[1mFunction executed in: 0 hours, 1 minutes, 20.121 seconds\u001b[0m\n",
      "\u001b[32m2025-07-09 14:58:53.046\u001b[0m | \u001b[32m\u001b[1mSUCCESS \u001b[0m | \u001b[36msrc.awesomealign.awesome_align_data\u001b[0m:\u001b[36m__post_init__\u001b[0m:\u001b[36m32\u001b[0m - \u001b[32m\u001b[1mAwesomeAlignDataset initialised.\u001b[0m\n"
     ]
    }
   ],
   "source": [
    "un = AwesomeAlignDataset(\n",
    "    data_path=\"../../data/raw_data/UN.txt\",\n",
    "    save=True,\n",
    "    save_path=\"../../data/raw_data/un.csv\",\n",
    ")"
   ]
  },
  {
   "cell_type": "code",
   "execution_count": null,
   "id": "2e0ffc5c",
   "metadata": {},
   "outputs": [
    {
     "name": "stderr",
     "output_type": "stream",
     "text": [
      "\u001b[32m2025-07-09 14:23:08.027\u001b[0m | \u001b[1mINFO    \u001b[0m | \u001b[36msrc.awesomealign.awesome_align_data\u001b[0m:\u001b[36m__post_init__\u001b[0m:\u001b[36m23\u001b[0m - \u001b[1mLoading Chinese tokenizer...\u001b[0m\n",
      "\u001b[32m2025-07-09 14:23:08.317\u001b[0m | \u001b[1mINFO    \u001b[0m | \u001b[36msrc.awesomealign.awesome_align_data\u001b[0m:\u001b[36mread_data\u001b[0m:\u001b[36m45\u001b[0m - \u001b[1mReading data from ../../data/raw_data/HK.txt...\u001b[0m\n",
      "\u001b[32m2025-07-09 14:49:18.569\u001b[0m | \u001b[32m\u001b[1mSUCCESS \u001b[0m | \u001b[36msrc.awesomealign.awesome_align_data\u001b[0m:\u001b[36mread_data\u001b[0m:\u001b[36m76\u001b[0m - \u001b[32m\u001b[1mRead data from ../../data/raw_data/HK.txt.\u001b[0m\n",
      "\u001b[32m2025-07-09 14:49:18.646\u001b[0m | \u001b[32m\u001b[1mSUCCESS \u001b[0m | \u001b[36msrc.utils.decorators\u001b[0m:\u001b[36mwrapper\u001b[0m:\u001b[36m16\u001b[0m - \u001b[32m\u001b[1mFunction executed in: 0 hours, 26 minutes, 10.381 seconds\u001b[0m\n",
      "\u001b[32m2025-07-09 14:49:21.418\u001b[0m | \u001b[32m\u001b[1mSUCCESS \u001b[0m | \u001b[36msrc.awesomealign.awesome_align_data\u001b[0m:\u001b[36m__post_init__\u001b[0m:\u001b[36m32\u001b[0m - \u001b[32m\u001b[1mAwesomeAlignDataset initialised.\u001b[0m\n"
     ]
    }
   ],
   "source": [
    "hk = AwesomeAlignDataset(\n",
    "    data_path=\"../../data/raw_data/HK.txt\",\n",
    "    save=True,\n",
    "    save_path=\"../../data/raw_data/hk.csv\",\n",
    ")"
   ]
  },
  {
   "cell_type": "code",
   "execution_count": null,
   "id": "8bda1c4c",
   "metadata": {},
   "outputs": [
    {
     "name": "stderr",
     "output_type": "stream",
     "text": [
      "\u001b[32m2025-07-09 15:00:41.993\u001b[0m | \u001b[1mINFO    \u001b[0m | \u001b[36msrc.awesomealign.awesome_align_data\u001b[0m:\u001b[36mcombine_data\u001b[0m:\u001b[36m81\u001b[0m - \u001b[1mCombining AwesomeAlignDataset(s) now, please ensure you are joining the correct datasets to avoid duplicate data...\u001b[0m\n"
     ]
    }
   ],
   "source": [
    "new_df = un.combine_data([hk], override=True)\n",
    "un.save_data(save_path=\"../../data/cleaned_data/aadf_2.csv\")"
   ]
  },
  {
   "cell_type": "markdown",
   "id": "14b5af5d",
   "metadata": {},
   "source": [
    "### Read AADF ###"
   ]
  },
  {
   "cell_type": "code",
   "execution_count": 24,
   "id": "d12eebf4",
   "metadata": {},
   "outputs": [
    {
     "data": {
      "text/plain": [
       "1348258"
      ]
     },
     "execution_count": 24,
     "metadata": {},
     "output_type": "execute_result"
    }
   ],
   "source": [
    "d = pd.read_csv(\"../../data/cleaned_data/aadf_2.csv\")\n",
    "len(d)"
   ]
  },
  {
   "cell_type": "code",
   "execution_count": 26,
   "id": "3303b62c",
   "metadata": {},
   "outputs": [
    {
     "data": {
      "text/html": [
       "<div>\n",
       "<style scoped>\n",
       "    .dataframe tbody tr th:only-of-type {\n",
       "        vertical-align: middle;\n",
       "    }\n",
       "\n",
       "    .dataframe tbody tr th {\n",
       "        vertical-align: top;\n",
       "    }\n",
       "\n",
       "    .dataframe thead th {\n",
       "        text-align: right;\n",
       "    }\n",
       "</style>\n",
       "<table border=\"1\" class=\"dataframe\">\n",
       "  <thead>\n",
       "    <tr style=\"text-align: right;\">\n",
       "      <th></th>\n",
       "      <th>final</th>\n",
       "    </tr>\n",
       "  </thead>\n",
       "  <tbody>\n",
       "    <tr>\n",
       "      <th>0</th>\n",
       "      <td>欢迎 来到 联合国 ||| Welcome to the United Nations</td>\n",
       "    </tr>\n",
       "    <tr>\n",
       "      <th>1</th>\n",
       "      <td>跳 转 到 相关 资源 ||| Skip to resources</td>\n",
       "    </tr>\n",
       "    <tr>\n",
       "      <th>2</th>\n",
       "      <td>欢迎 来到 联合国 , 您 的 世界 ! ||| Welcome to the United...</td>\n",
       "    </tr>\n",
       "    <tr>\n",
       "      <th>3</th>\n",
       "      <td>联合国 搜索 ||| UN Search</td>\n",
       "    </tr>\n",
       "    <tr>\n",
       "      <th>4</th>\n",
       "      <td>联合国 : 我 联合国 人民 , 团结 起来 追求 更 美好 的 世界 ! ||| Unit...</td>\n",
       "    </tr>\n",
       "  </tbody>\n",
       "</table>\n",
       "</div>"
      ],
      "text/plain": [
       "                                               final\n",
       "0        欢迎 来到 联合国 ||| Welcome to the United Nations\n",
       "1                  跳 转 到 相关 资源 ||| Skip to resources\n",
       "2  欢迎 来到 联合国 , 您 的 世界 ! ||| Welcome to the United...\n",
       "3                               联合国 搜索 ||| UN Search\n",
       "4  联合国 : 我 联合国 人民 , 团结 起来 追求 更 美好 的 世界 ! ||| Unit..."
      ]
     },
     "execution_count": 26,
     "metadata": {},
     "output_type": "execute_result"
    }
   ],
   "source": [
    "d.head()"
   ]
  },
  {
   "cell_type": "code",
   "execution_count": null,
   "id": "6970721f",
   "metadata": {},
   "outputs": [],
   "source": []
  }
 ],
 "metadata": {
  "kernelspec": {
   "display_name": "binary-align-zh",
   "language": "python",
   "name": "python3"
  },
  "language_info": {
   "codemirror_mode": {
    "name": "ipython",
    "version": 3
   },
   "file_extension": ".py",
   "mimetype": "text/x-python",
   "name": "python",
   "nbconvert_exporter": "python",
   "pygments_lexer": "ipython3",
   "version": "3.12.2"
  }
 },
 "nbformat": 4,
 "nbformat_minor": 5
}
