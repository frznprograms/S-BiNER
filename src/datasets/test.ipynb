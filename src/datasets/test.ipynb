{
 "cells": [
  {
   "cell_type": "code",
   "execution_count": 1,
   "id": "f8ad5f4f",
   "metadata": {},
   "outputs": [
    {
     "name": "stderr",
     "output_type": "stream",
     "text": [
      "/Users/shaneryan_1/Downloads/binary_align_zh/.venv/lib/python3.12/site-packages/tqdm/auto.py:21: TqdmWarning: IProgress not found. Please update jupyter and ipywidgets. See https://ipywidgets.readthedocs.io/en/stable/user_install.html\n",
      "  from .autonotebook import tqdm as notebook_tqdm\n"
     ]
    }
   ],
   "source": [
    "from transformers import XLMRobertaTokenizer, RobertaTokenizer, AutoTokenizer\n",
    "from itertools import chain\n",
    "import torch"
   ]
  },
  {
   "cell_type": "code",
   "execution_count": null,
   "id": "7f6f9edb",
   "metadata": {},
   "outputs": [],
   "source": []
  },
  {
   "cell_type": "code",
   "execution_count": 2,
   "id": "3a562a81",
   "metadata": {},
   "outputs": [],
   "source": [
    "en_sentence: str = \"Hello my good friend! It is good to see you again.\"\n",
    "zh_sentence: str = \"你好，我的朋友！很高兴再次见到你。\"  # translation of en sentence\n",
    "\n",
    "tok = XLMRobertaTokenizer.from_pretrained(\"xlm-roberta-base\")\n",
    "tok2 = RobertaTokenizer.from_pretrained(\"FacebookAI/roberta-base\")\n",
    "tok3 = AutoTokenizer.from_pretrained(\"bert-base-cased\")"
   ]
  },
  {
   "cell_type": "code",
   "execution_count": 3,
   "id": "2d3cd5df",
   "metadata": {},
   "outputs": [],
   "source": [
    "sep_token: str = \"<SEP>\""
   ]
  },
  {
   "cell_type": "code",
   "execution_count": 4,
   "id": "78f1ce15",
   "metadata": {},
   "outputs": [],
   "source": [
    "en_line: list[str] = en_sentence.strip().split()\n",
    "zh_line: list[str] = zh_sentence.strip().split()"
   ]
  },
  {
   "cell_type": "code",
   "execution_count": 5,
   "id": "09e66299",
   "metadata": {},
   "outputs": [],
   "source": [
    "# XLM Tokenizer adds \"__\" at start of each tokenized word for some reason\n",
    "# en_tokens: list[list[str]] = [tok.tokenize(word) for word in en_line]\n",
    "zh_tokens: list[list[str]] = [tok.tokenize(word) for word in zh_line]\n"
   ]
  },
  {
   "cell_type": "code",
   "execution_count": 6,
   "id": "bdadc814",
   "metadata": {},
   "outputs": [
    {
     "data": {
      "text/plain": [
       "[['▁', '你好', ',', '我', '的朋友', '!', '很高兴', '再次', '见到', '你', '。']]"
      ]
     },
     "execution_count": 6,
     "metadata": {},
     "output_type": "execute_result"
    }
   ],
   "source": [
    "# XLM tokenizer is the only one that can process chinese tokens. Roberta will tokenize into strange characters, while Deberta cannot even recognise Chinese characters.\n",
    "zh_tokens"
   ]
  },
  {
   "cell_type": "code",
   "execution_count": 225,
   "id": "fa9b17f5",
   "metadata": {},
   "outputs": [
    {
     "name": "stdout",
     "output_type": "stream",
     "text": [
      "[['<SEP>', 'Hello', '<SEP>', 'my', 'good', 'friend!', 'It', 'is', 'good', 'to', 'see', 'you', 'again.'], ['Hello', '<SEP>', 'my', '<SEP>', 'good', 'friend!', 'It', 'is', 'good', 'to', 'see', 'you', 'again.'], ['Hello', 'my', '<SEP>', 'good', '<SEP>', 'friend!', 'It', 'is', 'good', 'to', 'see', 'you', 'again.'], ['Hello', 'my', 'good', '<SEP>', 'friend!', '<SEP>', 'It', 'is', 'good', 'to', 'see', 'you', 'again.'], ['Hello', 'my', 'good', 'friend!', '<SEP>', 'It', '<SEP>', 'is', 'good', 'to', 'see', 'you', 'again.'], ['Hello', 'my', 'good', 'friend!', 'It', '<SEP>', 'is', '<SEP>', 'good', 'to', 'see', 'you', 'again.'], ['Hello', 'my', 'good', 'friend!', 'It', 'is', '<SEP>', 'good', '<SEP>', 'to', 'see', 'you', 'again.'], ['Hello', 'my', 'good', 'friend!', 'It', 'is', 'good', '<SEP>', 'to', '<SEP>', 'see', 'you', 'again.'], ['Hello', 'my', 'good', 'friend!', 'It', 'is', 'good', 'to', '<SEP>', 'see', '<SEP>', 'you', 'again.'], ['Hello', 'my', 'good', 'friend!', 'It', 'is', 'good', 'to', 'see', '<SEP>', 'you', '<SEP>', 'again.'], ['Hello', 'my', 'good', 'friend!', 'It', 'is', 'good', 'to', 'see', 'you', '<SEP>', 'again.', '<SEP>']]\n"
     ]
    }
   ],
   "source": [
    "# enumerate will process sentence word by word as opposed to char by char\n",
    "wbwexamples = []\n",
    "for i, unit in enumerate(en_line):\n",
    "    wbwexamples.append(\n",
    "        en_line[:i] + [sep_token] + [en_line[i]] + [sep_token] + en_line[i + 1 :]\n",
    "    )\n",
    "print(wbwexamples)  ## lists of lists\n"
   ]
  },
  {
   "cell_type": "code",
   "execution_count": 226,
   "id": "1b7bec4b",
   "metadata": {},
   "outputs": [
    {
     "name": "stdout",
     "output_type": "stream",
     "text": [
      "['<SEP>', 'Hello', '<SEP>', 'my', 'good', 'friend!', 'It', 'is', 'good', 'to', 'see', 'you', 'again.']\n",
      "['Hello', '<SEP>', 'my', '<SEP>', 'good', 'friend!', 'It', 'is', 'good', 'to', 'see', 'you', 'again.']\n",
      "['Hello', 'my', '<SEP>', 'good', '<SEP>', 'friend!', 'It', 'is', 'good', 'to', 'see', 'you', 'again.']\n",
      "['Hello', 'my', 'good', '<SEP>', 'friend!', '<SEP>', 'It', 'is', 'good', 'to', 'see', 'you', 'again.']\n",
      "['Hello', 'my', 'good', 'friend!', '<SEP>', 'It', '<SEP>', 'is', 'good', 'to', 'see', 'you', 'again.']\n",
      "['Hello', 'my', 'good', 'friend!', 'It', '<SEP>', 'is', '<SEP>', 'good', 'to', 'see', 'you', 'again.']\n",
      "['Hello', 'my', 'good', 'friend!', 'It', 'is', '<SEP>', 'good', '<SEP>', 'to', 'see', 'you', 'again.']\n",
      "['Hello', 'my', 'good', 'friend!', 'It', 'is', 'good', '<SEP>', 'to', '<SEP>', 'see', 'you', 'again.']\n",
      "['Hello', 'my', 'good', 'friend!', 'It', 'is', 'good', 'to', '<SEP>', 'see', '<SEP>', 'you', 'again.']\n",
      "['Hello', 'my', 'good', 'friend!', 'It', 'is', 'good', 'to', 'see', '<SEP>', 'you', '<SEP>', 'again.']\n",
      "['Hello', 'my', 'good', 'friend!', 'It', 'is', 'good', 'to', 'see', 'you', '<SEP>', 'again.', '<SEP>']\n"
     ]
    }
   ],
   "source": [
    "for example in wbwexamples:\n",
    "    print(example)"
   ]
  },
  {
   "cell_type": "code",
   "execution_count": 227,
   "id": "12456bbd",
   "metadata": {},
   "outputs": [],
   "source": [
    "line_len: int = len(en_line)\n",
    "for example in wbwexamples:\n",
    "    assert line_len == len(example) - 2"
   ]
  },
  {
   "cell_type": "code",
   "execution_count": 228,
   "id": "24ce4b61",
   "metadata": {},
   "outputs": [],
   "source": [
    "assert len(wbwexamples) == len(en_line)"
   ]
  },
  {
   "cell_type": "code",
   "execution_count": 229,
   "id": "11a7096e",
   "metadata": {},
   "outputs": [],
   "source": [
    "en_tokens: list[list[list[str]]] = [\n",
    "    [tok.tokenize(word) for word in example] for example in wbwexamples\n",
    "]\n",
    "zh_tokens: list[list[str]] = [tok.tokenize(word) for word in zh_sentence]"
   ]
  },
  {
   "cell_type": "code",
   "execution_count": 230,
   "id": "ec211198",
   "metadata": {},
   "outputs": [
    {
     "data": {
      "text/plain": [
       "(list, list, list, str)"
      ]
     },
     "execution_count": 230,
     "metadata": {},
     "output_type": "execute_result"
    }
   ],
   "source": [
    "type(en_tokens), type(en_tokens[0]), type(en_tokens[0][0]), type(en_tokens[0][0][0])"
   ]
  },
  {
   "cell_type": "code",
   "execution_count": 231,
   "id": "11cbd7ff",
   "metadata": {},
   "outputs": [
    {
     "data": {
      "text/plain": [
       "(list, list, str)"
      ]
     },
     "execution_count": 231,
     "metadata": {},
     "output_type": "execute_result"
    }
   ],
   "source": [
    "type(zh_tokens), type(zh_tokens[0]), type(zh_tokens[0][0])"
   ]
  },
  {
   "cell_type": "code",
   "execution_count": 232,
   "id": "c2b46eda",
   "metadata": {},
   "outputs": [],
   "source": [
    "# for i in range(len(en_tokens)):\n",
    "#     print(f\"Element {i} of highest-level list\")\n",
    "#     for j in range(len(en_tokens[i])):\n",
    "#         print(f\"Element {i, j}, {type(en_tokens[i][j])} of {type(en_tokens[i][j][0])}\")\n",
    "#         print(en_tokens[i][j])"
   ]
  },
  {
   "cell_type": "code",
   "execution_count": 233,
   "id": "13b6f697",
   "metadata": {},
   "outputs": [],
   "source": [
    "# for i in range(len(zh_tokens)):\n",
    "#     print(f\"Element {i}, {type(zh_tokens[i])} of {type(zh_tokens[i][0])}\")\n",
    "#     print(zh_tokens[i])"
   ]
  },
  {
   "cell_type": "code",
   "execution_count": 234,
   "id": "b61f0f8d",
   "metadata": {},
   "outputs": [],
   "source": [
    "en_w2id_1: list[list[list[str]]] = [\n",
    "    [tok.convert_tokens_to_ids(token) for token in tokens] for tokens in en_tokens\n",
    "]"
   ]
  },
  {
   "cell_type": "code",
   "execution_count": 235,
   "id": "34ae679a",
   "metadata": {},
   "outputs": [],
   "source": [
    "# en_w2id_1"
   ]
  },
  {
   "cell_type": "code",
   "execution_count": 236,
   "id": "9926a509",
   "metadata": {},
   "outputs": [],
   "source": [
    "en_w2id_2: list[list[list[int]]] = [\n",
    "    [[tok.convert_tokens_to_ids(token) for token in word] for word in sent]\n",
    "    for sent in en_tokens\n",
    "]"
   ]
  },
  {
   "cell_type": "code",
   "execution_count": 257,
   "id": "0552553a",
   "metadata": {},
   "outputs": [
    {
     "data": {
      "text/plain": [
       "[[[4426, 294, 21290, 2740],\n",
       "  [35378],\n",
       "  [4426, 294, 21290, 2740],\n",
       "  [759],\n",
       "  [4127],\n",
       "  [34391, 38],\n",
       "  [1650],\n",
       "  [83],\n",
       "  [4127],\n",
       "  [47],\n",
       "  [1957],\n",
       "  [398],\n",
       "  [13438, 5]],\n",
       " [[35378],\n",
       "  [4426, 294, 21290, 2740],\n",
       "  [759],\n",
       "  [4426, 294, 21290, 2740],\n",
       "  [4127],\n",
       "  [34391, 38],\n",
       "  [1650],\n",
       "  [83],\n",
       "  [4127],\n",
       "  [47],\n",
       "  [1957],\n",
       "  [398],\n",
       "  [13438, 5]],\n",
       " [[35378],\n",
       "  [759],\n",
       "  [4426, 294, 21290, 2740],\n",
       "  [4127],\n",
       "  [4426, 294, 21290, 2740],\n",
       "  [34391, 38],\n",
       "  [1650],\n",
       "  [83],\n",
       "  [4127],\n",
       "  [47],\n",
       "  [1957],\n",
       "  [398],\n",
       "  [13438, 5]],\n",
       " [[35378],\n",
       "  [759],\n",
       "  [4127],\n",
       "  [4426, 294, 21290, 2740],\n",
       "  [34391, 38],\n",
       "  [4426, 294, 21290, 2740],\n",
       "  [1650],\n",
       "  [83],\n",
       "  [4127],\n",
       "  [47],\n",
       "  [1957],\n",
       "  [398],\n",
       "  [13438, 5]],\n",
       " [[35378],\n",
       "  [759],\n",
       "  [4127],\n",
       "  [34391, 38],\n",
       "  [4426, 294, 21290, 2740],\n",
       "  [1650],\n",
       "  [4426, 294, 21290, 2740],\n",
       "  [83],\n",
       "  [4127],\n",
       "  [47],\n",
       "  [1957],\n",
       "  [398],\n",
       "  [13438, 5]],\n",
       " [[35378],\n",
       "  [759],\n",
       "  [4127],\n",
       "  [34391, 38],\n",
       "  [1650],\n",
       "  [4426, 294, 21290, 2740],\n",
       "  [83],\n",
       "  [4426, 294, 21290, 2740],\n",
       "  [4127],\n",
       "  [47],\n",
       "  [1957],\n",
       "  [398],\n",
       "  [13438, 5]],\n",
       " [[35378],\n",
       "  [759],\n",
       "  [4127],\n",
       "  [34391, 38],\n",
       "  [1650],\n",
       "  [83],\n",
       "  [4426, 294, 21290, 2740],\n",
       "  [4127],\n",
       "  [4426, 294, 21290, 2740],\n",
       "  [47],\n",
       "  [1957],\n",
       "  [398],\n",
       "  [13438, 5]],\n",
       " [[35378],\n",
       "  [759],\n",
       "  [4127],\n",
       "  [34391, 38],\n",
       "  [1650],\n",
       "  [83],\n",
       "  [4127],\n",
       "  [4426, 294, 21290, 2740],\n",
       "  [47],\n",
       "  [4426, 294, 21290, 2740],\n",
       "  [1957],\n",
       "  [398],\n",
       "  [13438, 5]],\n",
       " [[35378],\n",
       "  [759],\n",
       "  [4127],\n",
       "  [34391, 38],\n",
       "  [1650],\n",
       "  [83],\n",
       "  [4127],\n",
       "  [47],\n",
       "  [4426, 294, 21290, 2740],\n",
       "  [1957],\n",
       "  [4426, 294, 21290, 2740],\n",
       "  [398],\n",
       "  [13438, 5]],\n",
       " [[35378],\n",
       "  [759],\n",
       "  [4127],\n",
       "  [34391, 38],\n",
       "  [1650],\n",
       "  [83],\n",
       "  [4127],\n",
       "  [47],\n",
       "  [1957],\n",
       "  [4426, 294, 21290, 2740],\n",
       "  [398],\n",
       "  [4426, 294, 21290, 2740],\n",
       "  [13438, 5]],\n",
       " [[35378],\n",
       "  [759],\n",
       "  [4127],\n",
       "  [34391, 38],\n",
       "  [1650],\n",
       "  [83],\n",
       "  [4127],\n",
       "  [47],\n",
       "  [1957],\n",
       "  [398],\n",
       "  [4426, 294, 21290, 2740],\n",
       "  [13438, 5],\n",
       "  [4426, 294, 21290, 2740]]]"
      ]
     },
     "execution_count": 257,
     "metadata": {},
     "output_type": "execute_result"
    }
   ],
   "source": [
    "en_w2id_2"
   ]
  },
  {
   "cell_type": "markdown",
   "id": "427ed6d8",
   "metadata": {},
   "source": [
    "Sanity check: why are the lists equivalent? Something to do with transformers tokenizers?"
   ]
  },
  {
   "cell_type": "code",
   "execution_count": 238,
   "id": "bd17b223",
   "metadata": {},
   "outputs": [],
   "source": [
    "assert en_w2id_1 == en_w2id_2"
   ]
  },
  {
   "cell_type": "code",
   "execution_count": 239,
   "id": "2df34ae9",
   "metadata": {},
   "outputs": [],
   "source": [
    "zh_w2id_1: list[list[int]] = [\n",
    "    [tok.convert_tokens_to_ids(token) for token in tokens] for tokens in zh_tokens\n",
    "]"
   ]
  },
  {
   "cell_type": "code",
   "execution_count": 240,
   "id": "4b4502d8",
   "metadata": {},
   "outputs": [],
   "source": [
    "zh_w2id_2: list[list[int]] = [tok.convert_tokens_to_ids(token) for token in zh_tokens]"
   ]
  },
  {
   "cell_type": "code",
   "execution_count": 241,
   "id": "d84e52c2",
   "metadata": {},
   "outputs": [],
   "source": [
    "assert zh_w2id_1 == zh_w2id_2"
   ]
  },
  {
   "cell_type": "code",
   "execution_count": 242,
   "id": "35089221",
   "metadata": {},
   "outputs": [],
   "source": [
    "chained_en: list[list[int]] = [list(chain(*ids)) for ids in en_w2id_2]"
   ]
  },
  {
   "cell_type": "code",
   "execution_count": 243,
   "id": "74b287f1",
   "metadata": {},
   "outputs": [],
   "source": [
    "en_input_ids: list[list[int]] = [\n",
    "    tok.prepare_for_model(list(chain(*word_ids)), truncation=True, max_length=256)[\n",
    "        \"input_ids\"\n",
    "    ]\n",
    "    for word_ids in en_w2id_2\n",
    "]"
   ]
  },
  {
   "cell_type": "code",
   "execution_count": 260,
   "id": "32f5875c",
   "metadata": {},
   "outputs": [],
   "source": [
    "# en_input_ids"
   ]
  },
  {
   "cell_type": "code",
   "execution_count": 245,
   "id": "a141f3ac",
   "metadata": {},
   "outputs": [],
   "source": [
    "en_att_mask = [\n",
    "    tok.prepare_for_model(list(chain(*word_ids)), truncation=True, max_length=256)[\n",
    "        \"attention_mask\"\n",
    "    ]\n",
    "    for word_ids in en_w2id_2\n",
    "]"
   ]
  },
  {
   "cell_type": "code",
   "execution_count": 246,
   "id": "a79a4f54",
   "metadata": {},
   "outputs": [
    {
     "data": {
      "text/plain": [
       "[[1, 1, 1, 1, 1, 1, 1, 1, 1, 1, 1, 1, 1, 1, 1, 1, 1, 1, 1, 1, 1, 1, 1],\n",
       " [1, 1, 1, 1, 1, 1, 1, 1, 1, 1, 1, 1, 1, 1, 1, 1, 1, 1, 1, 1, 1, 1, 1],\n",
       " [1, 1, 1, 1, 1, 1, 1, 1, 1, 1, 1, 1, 1, 1, 1, 1, 1, 1, 1, 1, 1, 1, 1],\n",
       " [1, 1, 1, 1, 1, 1, 1, 1, 1, 1, 1, 1, 1, 1, 1, 1, 1, 1, 1, 1, 1, 1, 1],\n",
       " [1, 1, 1, 1, 1, 1, 1, 1, 1, 1, 1, 1, 1, 1, 1, 1, 1, 1, 1, 1, 1, 1, 1],\n",
       " [1, 1, 1, 1, 1, 1, 1, 1, 1, 1, 1, 1, 1, 1, 1, 1, 1, 1, 1, 1, 1, 1, 1],\n",
       " [1, 1, 1, 1, 1, 1, 1, 1, 1, 1, 1, 1, 1, 1, 1, 1, 1, 1, 1, 1, 1, 1, 1],\n",
       " [1, 1, 1, 1, 1, 1, 1, 1, 1, 1, 1, 1, 1, 1, 1, 1, 1, 1, 1, 1, 1, 1, 1],\n",
       " [1, 1, 1, 1, 1, 1, 1, 1, 1, 1, 1, 1, 1, 1, 1, 1, 1, 1, 1, 1, 1, 1, 1],\n",
       " [1, 1, 1, 1, 1, 1, 1, 1, 1, 1, 1, 1, 1, 1, 1, 1, 1, 1, 1, 1, 1, 1, 1],\n",
       " [1, 1, 1, 1, 1, 1, 1, 1, 1, 1, 1, 1, 1, 1, 1, 1, 1, 1, 1, 1, 1, 1, 1]]"
      ]
     },
     "execution_count": 246,
     "metadata": {},
     "output_type": "execute_result"
    }
   ],
   "source": [
    "en_att_mask"
   ]
  },
  {
   "cell_type": "code",
   "execution_count": 247,
   "id": "68415872",
   "metadata": {},
   "outputs": [
    {
     "data": {
      "text/plain": [
       "[0,\n",
       " 4426,\n",
       " 294,\n",
       " 21290,\n",
       " 2740,\n",
       " 35378,\n",
       " 4426,\n",
       " 294,\n",
       " 21290,\n",
       " 2740,\n",
       " 759,\n",
       " 4127,\n",
       " 34391,\n",
       " 38,\n",
       " 1650,\n",
       " 83,\n",
       " 4127,\n",
       " 47,\n",
       " 1957,\n",
       " 398,\n",
       " 13438,\n",
       " 5,\n",
       " 2]"
      ]
     },
     "execution_count": 247,
     "metadata": {},
     "output_type": "execute_result"
    }
   ],
   "source": [
    "en_input_ids[0]"
   ]
  },
  {
   "cell_type": "code",
   "execution_count": 262,
   "id": "f57fdcd3",
   "metadata": {},
   "outputs": [
    {
     "data": {
      "text/plain": [
       "tensor([[0.0000e+00, 4.4260e+03, 2.9400e+02, 2.1290e+04, 2.7400e+03, 3.5378e+04,\n",
       "         4.4260e+03, 2.9400e+02, 2.1290e+04, 2.7400e+03, 7.5900e+02, 4.1270e+03,\n",
       "         3.4391e+04, 3.8000e+01, 1.6500e+03, 8.3000e+01, 4.1270e+03, 4.7000e+01,\n",
       "         1.9570e+03, 3.9800e+02, 1.3438e+04, 5.0000e+00, 2.0000e+00],\n",
       "        [0.0000e+00, 3.5378e+04, 4.4260e+03, 2.9400e+02, 2.1290e+04, 2.7400e+03,\n",
       "         7.5900e+02, 4.4260e+03, 2.9400e+02, 2.1290e+04, 2.7400e+03, 4.1270e+03,\n",
       "         3.4391e+04, 3.8000e+01, 1.6500e+03, 8.3000e+01, 4.1270e+03, 4.7000e+01,\n",
       "         1.9570e+03, 3.9800e+02, 1.3438e+04, 5.0000e+00, 2.0000e+00],\n",
       "        [0.0000e+00, 3.5378e+04, 7.5900e+02, 4.4260e+03, 2.9400e+02, 2.1290e+04,\n",
       "         2.7400e+03, 4.1270e+03, 4.4260e+03, 2.9400e+02, 2.1290e+04, 2.7400e+03,\n",
       "         3.4391e+04, 3.8000e+01, 1.6500e+03, 8.3000e+01, 4.1270e+03, 4.7000e+01,\n",
       "         1.9570e+03, 3.9800e+02, 1.3438e+04, 5.0000e+00, 2.0000e+00],\n",
       "        [0.0000e+00, 3.5378e+04, 7.5900e+02, 4.1270e+03, 4.4260e+03, 2.9400e+02,\n",
       "         2.1290e+04, 2.7400e+03, 3.4391e+04, 3.8000e+01, 4.4260e+03, 2.9400e+02,\n",
       "         2.1290e+04, 2.7400e+03, 1.6500e+03, 8.3000e+01, 4.1270e+03, 4.7000e+01,\n",
       "         1.9570e+03, 3.9800e+02, 1.3438e+04, 5.0000e+00, 2.0000e+00],\n",
       "        [0.0000e+00, 3.5378e+04, 7.5900e+02, 4.1270e+03, 3.4391e+04, 3.8000e+01,\n",
       "         4.4260e+03, 2.9400e+02, 2.1290e+04, 2.7400e+03, 1.6500e+03, 4.4260e+03,\n",
       "         2.9400e+02, 2.1290e+04, 2.7400e+03, 8.3000e+01, 4.1270e+03, 4.7000e+01,\n",
       "         1.9570e+03, 3.9800e+02, 1.3438e+04, 5.0000e+00, 2.0000e+00],\n",
       "        [0.0000e+00, 3.5378e+04, 7.5900e+02, 4.1270e+03, 3.4391e+04, 3.8000e+01,\n",
       "         1.6500e+03, 4.4260e+03, 2.9400e+02, 2.1290e+04, 2.7400e+03, 8.3000e+01,\n",
       "         4.4260e+03, 2.9400e+02, 2.1290e+04, 2.7400e+03, 4.1270e+03, 4.7000e+01,\n",
       "         1.9570e+03, 3.9800e+02, 1.3438e+04, 5.0000e+00, 2.0000e+00],\n",
       "        [0.0000e+00, 3.5378e+04, 7.5900e+02, 4.1270e+03, 3.4391e+04, 3.8000e+01,\n",
       "         1.6500e+03, 8.3000e+01, 4.4260e+03, 2.9400e+02, 2.1290e+04, 2.7400e+03,\n",
       "         4.1270e+03, 4.4260e+03, 2.9400e+02, 2.1290e+04, 2.7400e+03, 4.7000e+01,\n",
       "         1.9570e+03, 3.9800e+02, 1.3438e+04, 5.0000e+00, 2.0000e+00],\n",
       "        [0.0000e+00, 3.5378e+04, 7.5900e+02, 4.1270e+03, 3.4391e+04, 3.8000e+01,\n",
       "         1.6500e+03, 8.3000e+01, 4.1270e+03, 4.4260e+03, 2.9400e+02, 2.1290e+04,\n",
       "         2.7400e+03, 4.7000e+01, 4.4260e+03, 2.9400e+02, 2.1290e+04, 2.7400e+03,\n",
       "         1.9570e+03, 3.9800e+02, 1.3438e+04, 5.0000e+00, 2.0000e+00],\n",
       "        [0.0000e+00, 3.5378e+04, 7.5900e+02, 4.1270e+03, 3.4391e+04, 3.8000e+01,\n",
       "         1.6500e+03, 8.3000e+01, 4.1270e+03, 4.7000e+01, 4.4260e+03, 2.9400e+02,\n",
       "         2.1290e+04, 2.7400e+03, 1.9570e+03, 4.4260e+03, 2.9400e+02, 2.1290e+04,\n",
       "         2.7400e+03, 3.9800e+02, 1.3438e+04, 5.0000e+00, 2.0000e+00],\n",
       "        [0.0000e+00, 3.5378e+04, 7.5900e+02, 4.1270e+03, 3.4391e+04, 3.8000e+01,\n",
       "         1.6500e+03, 8.3000e+01, 4.1270e+03, 4.7000e+01, 1.9570e+03, 4.4260e+03,\n",
       "         2.9400e+02, 2.1290e+04, 2.7400e+03, 3.9800e+02, 4.4260e+03, 2.9400e+02,\n",
       "         2.1290e+04, 2.7400e+03, 1.3438e+04, 5.0000e+00, 2.0000e+00],\n",
       "        [0.0000e+00, 3.5378e+04, 7.5900e+02, 4.1270e+03, 3.4391e+04, 3.8000e+01,\n",
       "         1.6500e+03, 8.3000e+01, 4.1270e+03, 4.7000e+01, 1.9570e+03, 3.9800e+02,\n",
       "         4.4260e+03, 2.9400e+02, 2.1290e+04, 2.7400e+03, 1.3438e+04, 5.0000e+00,\n",
       "         4.4260e+03, 2.9400e+02, 2.1290e+04, 2.7400e+03, 2.0000e+00]])"
      ]
     },
     "execution_count": 262,
     "metadata": {},
     "output_type": "execute_result"
    }
   ],
   "source": [
    "en_input_ids_pt: torch.Tensor = torch.Tensor(\n",
    "    [\n",
    "        tok.prepare_for_model(list(chain(*word_ids)), truncation=True, max_length=256)[\n",
    "            \"input_ids\"\n",
    "        ]\n",
    "        for word_ids in en_w2id_2\n",
    "    ]\n",
    ")\n",
    "\n",
    "# torch.ones_like(en_input_ids_pt[1])\n",
    "en_input_ids_pt"
   ]
  },
  {
   "cell_type": "code",
   "execution_count": null,
   "id": "318e5c97",
   "metadata": {},
   "outputs": [],
   "source": [
    "zh_input_ids: list[int] = tok.prepare_for_model(\n",
    "    list(chain(*zh_w2id_2)), truncation=True, max_length=256\n",
    ")[\"input_ids\"]"
   ]
  },
  {
   "cell_type": "code",
   "execution_count": 250,
   "id": "eff90bf6",
   "metadata": {},
   "outputs": [
    {
     "data": {
      "text/plain": [
       "[0,\n",
       " 73675,\n",
       " 6,\n",
       " 1322,\n",
       " 6,\n",
       " 4,\n",
       " 13129,\n",
       " 6,\n",
       " 43,\n",
       " 6,\n",
       " 182529,\n",
       " 6,\n",
       " 16157,\n",
       " 711,\n",
       " 6,\n",
       " 2165,\n",
       " 6,\n",
       " 1395,\n",
       " 6,\n",
       " 29738,\n",
       " 6,\n",
       " 2058,\n",
       " 6,\n",
       " 4465,\n",
       " 6,\n",
       " 11415,\n",
       " 6,\n",
       " 789,\n",
       " 73675,\n",
       " 6,\n",
       " 30,\n",
       " 2]"
      ]
     },
     "execution_count": 250,
     "metadata": {},
     "output_type": "execute_result"
    }
   ],
   "source": [
    "zh_input_ids"
   ]
  },
  {
   "cell_type": "code",
   "execution_count": 251,
   "id": "2bcc2b77",
   "metadata": {},
   "outputs": [
    {
     "data": {
      "text/plain": [
       "11"
      ]
     },
     "execution_count": 251,
     "metadata": {},
     "output_type": "execute_result"
    }
   ],
   "source": [
    "len(en_input_ids)"
   ]
  },
  {
   "cell_type": "code",
   "execution_count": 252,
   "id": "7a54fcd5",
   "metadata": {},
   "outputs": [
    {
     "data": {
      "text/plain": [
       "torch.Size([11, 23])"
      ]
     },
     "execution_count": 252,
     "metadata": {},
     "output_type": "execute_result"
    }
   ],
   "source": [
    "en_input_ids_pt.shape"
   ]
  },
  {
   "cell_type": "code",
   "execution_count": null,
   "id": "5fc704ab",
   "metadata": {},
   "outputs": [],
   "source": [
    "zh_input_ids: torch.Tensor = tok.prepare_for_model(\n",
    "    list(chain(*zh_w2id_2)), truncation=True, max_length=256, return_tensors=\"pt\"\n",
    ")[\"input_ids\"][1:]"
   ]
  },
  {
   "cell_type": "code",
   "execution_count": 254,
   "id": "9e4895bc",
   "metadata": {},
   "outputs": [
    {
     "data": {
      "text/plain": [
       "torch.Size([11, 31])"
      ]
     },
     "execution_count": 254,
     "metadata": {},
     "output_type": "execute_result"
    }
   ],
   "source": [
    "zh_input_ids_pt = zh_input_ids.repeat(len(en_input_ids), 1)\n",
    "zh_input_ids_pt.shape"
   ]
  },
  {
   "cell_type": "code",
   "execution_count": 255,
   "id": "625e38ae",
   "metadata": {},
   "outputs": [],
   "source": [
    "zh_bpe2word = []\n",
    "# recall: zh_tokens is list[list[str]]\n",
    "for k, word_list in enumerate(zh_tokens):\n",
    "    # word_list is list[str]\n",
    "    zh_bpe2word += [k for _ in word_list]"
   ]
  },
  {
   "cell_type": "code",
   "execution_count": 256,
   "id": "4cbd4ab8",
   "metadata": {},
   "outputs": [
    {
     "data": {
      "text/plain": [
       "[0,\n",
       " 1,\n",
       " 1,\n",
       " 2,\n",
       " 2,\n",
       " 3,\n",
       " 4,\n",
       " 4,\n",
       " 5,\n",
       " 5,\n",
       " 6,\n",
       " 6,\n",
       " 7,\n",
       " 8,\n",
       " 8,\n",
       " 9,\n",
       " 9,\n",
       " 10,\n",
       " 10,\n",
       " 11,\n",
       " 11,\n",
       " 12,\n",
       " 12,\n",
       " 13,\n",
       " 13,\n",
       " 14,\n",
       " 14,\n",
       " 15,\n",
       " 16,\n",
       " 16]"
      ]
     },
     "execution_count": 256,
     "metadata": {},
     "output_type": "execute_result"
    }
   ],
   "source": [
    "zh_bpe2word"
   ]
  },
  {
   "cell_type": "code",
   "execution_count": 263,
   "id": "22fe0e8a",
   "metadata": {},
   "outputs": [
    {
     "data": {
      "text/plain": [
       "[0,\n",
       " 4426,\n",
       " 294,\n",
       " 21290,\n",
       " 2740,\n",
       " 35378,\n",
       " 4426,\n",
       " 294,\n",
       " 21290,\n",
       " 2740,\n",
       " 759,\n",
       " 4127,\n",
       " 34391,\n",
       " 38,\n",
       " 1650,\n",
       " 83,\n",
       " 4127,\n",
       " 47,\n",
       " 1957,\n",
       " 398,\n",
       " 13438,\n",
       " 5,\n",
       " 2]"
      ]
     },
     "execution_count": 263,
     "metadata": {},
     "output_type": "execute_result"
    }
   ],
   "source": [
    "en_input_ids[0]"
   ]
  },
  {
   "cell_type": "code",
   "execution_count": 268,
   "id": "06281759",
   "metadata": {},
   "outputs": [
    {
     "data": {
      "text/plain": [
       "torch.Size([11, 23])"
      ]
     },
     "execution_count": 268,
     "metadata": {},
     "output_type": "execute_result"
    }
   ],
   "source": [
    "en_input_ids_pt.shape"
   ]
  },
  {
   "cell_type": "code",
   "execution_count": null,
   "id": "053ad87e",
   "metadata": {},
   "outputs": [],
   "source": []
  }
 ],
 "metadata": {
  "kernelspec": {
   "display_name": "binary-align-zh",
   "language": "python",
   "name": "python3"
  },
  "language_info": {
   "codemirror_mode": {
    "name": "ipython",
    "version": 3
   },
   "file_extension": ".py",
   "mimetype": "text/x-python",
   "name": "python",
   "nbconvert_exporter": "python",
   "pygments_lexer": "ipython3",
   "version": "3.12.2"
  }
 },
 "nbformat": 4,
 "nbformat_minor": 5
}
