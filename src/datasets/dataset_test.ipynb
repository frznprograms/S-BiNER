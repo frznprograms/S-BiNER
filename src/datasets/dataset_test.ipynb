{
 "cells": [
  {
   "cell_type": "code",
   "execution_count": 1,
   "id": "19775aed",
   "metadata": {},
   "outputs": [
    {
     "name": "stdout",
     "output_type": "stream",
     "text": [
      "Added to Python path: /Users/shaneryan_1/Downloads/binary_align_zh\n",
      "Current working directory: /Users/shaneryan_1/Downloads/binary_align_zh/src/datasets\n",
      "✅ 'src' directory found - imports should work now\n"
     ]
    }
   ],
   "source": [
    "import sys\n",
    "from pathlib import Path\n",
    "\n",
    "# Add project root to Python path\n",
    "current_dir = Path.cwd()\n",
    "project_root = (\n",
    "    current_dir.parent.parent if current_dir.name == \"datasets\" else current_dir\n",
    ")\n",
    "sys.path.insert(0, str(project_root))\n",
    "\n",
    "print(f\"Added to Python path: {project_root}\")\n",
    "print(f\"Current working directory: {current_dir}\")\n",
    "\n",
    "# Verify the fix worked\n",
    "if (project_root / \"src\").exists():\n",
    "    print(\"✅ 'src' directory found - imports should work now\")\n",
    "else:\n",
    "    print(\"❌ 'src' directory not found - check your project structure\")"
   ]
  },
  {
   "cell_type": "code",
   "execution_count": 2,
   "id": "47bca8bf",
   "metadata": {},
   "outputs": [
    {
     "name": "stdout",
     "output_type": "stream",
     "text": [
      "/Users/shaneryan_1/Downloads/binary_align_zh/src/datasets\n"
     ]
    }
   ],
   "source": [
    "print(Path.cwd())"
   ]
  },
  {
   "cell_type": "code",
   "execution_count": 3,
   "id": "ac0b03c5",
   "metadata": {},
   "outputs": [
    {
     "name": "stderr",
     "output_type": "stream",
     "text": [
      "/Users/shaneryan_1/Downloads/binary_align_zh/.venv/lib/python3.12/site-packages/tqdm/auto.py:21: TqdmWarning: IProgress not found. Please update jupyter and ipywidgets. See https://ipywidgets.readthedocs.io/en/stable/user_install.html\n",
      "  from .autonotebook import tqdm as notebook_tqdm\n"
     ]
    }
   ],
   "source": [
    "# import torch\n",
    "from src.datasets.datasets_gold import AlignmentDatasetGold\n",
    "from transformers import XLMRobertaTokenizer, AutoTokenizer\n",
    "\n",
    "tokenizer = AutoTokenizer.from_pretrained(\"FacebookAI/xlm-roberta-base\")"
   ]
  },
  {
   "cell_type": "code",
   "execution_count": 4,
   "id": "6ee42fdd",
   "metadata": {},
   "outputs": [
    {
     "data": {
      "text/plain": [
       "['▁Constantin', 'o', 'ple']"
      ]
     },
     "execution_count": 4,
     "metadata": {},
     "output_type": "execute_result"
    }
   ],
   "source": [
    "tokenizer.tokenize(\"Constantinople\")"
   ]
  },
  {
   "cell_type": "code",
   "execution_count": 5,
   "id": "a971727d",
   "metadata": {},
   "outputs": [
    {
     "data": {
      "text/plain": [
       "['▁',\n",
       " '晓',\n",
       " '美',\n",
       " '焰',\n",
       " '▁',\n",
       " '来到',\n",
       " '▁',\n",
       " '北京',\n",
       " '立',\n",
       " '方',\n",
       " '庭',\n",
       " '▁',\n",
       " '参观',\n",
       " '▁',\n",
       " '自然',\n",
       " '语',\n",
       " '义',\n",
       " '科技',\n",
       " '公司']"
      ]
     },
     "execution_count": 5,
     "metadata": {},
     "output_type": "execute_result"
    }
   ],
   "source": [
    "tokenizer.tokenize(\"晓美焰 来到 北京立方庭 参观 自然语义科技公司\")"
   ]
  },
  {
   "cell_type": "code",
   "execution_count": 8,
   "id": "82886c60",
   "metadata": {},
   "outputs": [
    {
     "data": {
      "text/plain": [
       "['▁',\n",
       " '晓',\n",
       " '美',\n",
       " '焰',\n",
       " '▁',\n",
       " '来到',\n",
       " '▁',\n",
       " '北京',\n",
       " '立',\n",
       " '方',\n",
       " '庭',\n",
       " '▁',\n",
       " '参观',\n",
       " '▁',\n",
       " '自然',\n",
       " '语',\n",
       " '义',\n",
       " '科技',\n",
       " '公司']"
      ]
     },
     "execution_count": 8,
     "metadata": {},
     "output_type": "execute_result"
    }
   ],
   "source": [
    "tokenizer.tokenize([\"晓美焰\", \"来到\",  \"北京立方庭\", \"参观\", \"自然语义科技公司\"], is_split_into_words=True)"
   ]
  },
  {
   "cell_type": "code",
   "execution_count": null,
   "id": "a6d472b0",
   "metadata": {},
   "outputs": [
    {
     "name": "stderr",
     "output_type": "stream",
     "text": [
      "100%|██████████| 21999/21999 [11:48<00:00, 31.04it/s]  ogger_config\u001b[0m:\u001b[36msetup_logger\u001b[0m:\u001b[36m58\u001b[0m - \u001b[32mLogger initialized. Logs will be saved to logs/logs\u001b[0m\u001b[32m 10:22:04\u001b[0m | \u001b[37mINFO    \u001b[0m | \u001b[36msrc.datasets.base_dataset\u001b[0m:\u001b[36m__post_init__\u001b[0m:\u001b[36m45\u001b[0m - \u001b[37mPreparing dataset...\u001b[0m\n",
      "100%|██████████| 21999/21999 [50:59<00:00,  7.19it/s]  .decorators\u001b[0m:\u001b[36mwrapper\u001b[0m:\u001b[36m16\u001b[0m - \u001b[32mFunction executed in: 0 hours, 11 minutes, 48.682 seconds\u001b[0m\n",
      "\u001b[32m 11:24:53\u001b[0m | \u001b[32mSUCCESS \u001b[0m | \u001b[36msrc.utils.decorators\u001b[0m:\u001b[36mwrapper\u001b[0m:\u001b[36m16\u001b[0m - \u001b[32mFunction executed in: 0 hours, 50 minutes, 59.743 seconds\u001b[0m\u001b[32m 11:24:53\u001b[0m | \u001b[32mSUCCESS \u001b[0m | \u001b[36msrc.datasets.datasets_gold\u001b[0m:\u001b[36m__post_init__\u001b[0m:\u001b[36m17\u001b[0m - \u001b[32mAlignmentDatasetGold initialized successfully\u001b[0m"
     ]
    }
   ],
   "source": [
    "a = AlignmentDatasetGold(\n",
    "    tokenizer=XLMRobertaTokenizer.from_pretrained(\"xlm-roberta-base\"),\n",
    "    source_lines_path=\"../../data/raw_data/english.txt\",\n",
    "    target_lines_path=\"../../data/raw_data/chinese.txt\",\n",
    "    alignments_path=\"../../data/raw_data/alignment.txt\",\n",
    "    one_indexed=True,\n",
    "    save=False,\n",
    "    limit=21999,\n",
    ")"
   ]
  },
  {
   "cell_type": "markdown",
   "id": "8a6d80d5",
   "metadata": {},
   "source": []
  },
  {
   "cell_type": "code",
   "execution_count": 9,
   "id": "5dca679c",
   "metadata": {},
   "outputs": [
    {
     "data": {
      "text/plain": [
       "dict_keys(['input_ids', 'attention_mask', 'labels'])"
      ]
     },
     "execution_count": 9,
     "metadata": {},
     "output_type": "execute_result"
    }
   ],
   "source": [
    "a.data[0].keys()"
   ]
  },
  {
   "cell_type": "code",
   "execution_count": 48,
   "id": "2eb02fe5",
   "metadata": {},
   "outputs": [],
   "source": [
    "import pandas as pd"
   ]
  },
  {
   "cell_type": "code",
   "execution_count": 59,
   "id": "25e1a1c6",
   "metadata": {},
   "outputs": [],
   "source": [
    "data = pd.read_csv(\"../../data/cleaned_data/aa_df.csv\")"
   ]
  },
  {
   "cell_type": "code",
   "execution_count": 60,
   "id": "77f48a95",
   "metadata": {},
   "outputs": [
    {
     "data": {
      "text/html": [
       "<div>\n",
       "<style scoped>\n",
       "    .dataframe tbody tr th:only-of-type {\n",
       "        vertical-align: middle;\n",
       "    }\n",
       "\n",
       "    .dataframe tbody tr th {\n",
       "        vertical-align: top;\n",
       "    }\n",
       "\n",
       "    .dataframe thead th {\n",
       "        text-align: right;\n",
       "    }\n",
       "</style>\n",
       "<table border=\"1\" class=\"dataframe\">\n",
       "  <thead>\n",
       "    <tr style=\"text-align: right;\">\n",
       "      <th></th>\n",
       "      <th>final</th>\n",
       "    </tr>\n",
       "  </thead>\n",
       "  <tbody>\n",
       "    <tr>\n",
       "      <th>0</th>\n",
       "      <td>欢迎 来到 联合国 ||| Welcome to the United Nations</td>\n",
       "    </tr>\n",
       "    <tr>\n",
       "      <th>1</th>\n",
       "      <td>跳 转 到 相关 资源 ||| Skip to resources</td>\n",
       "    </tr>\n",
       "    <tr>\n",
       "      <th>2</th>\n",
       "      <td>欢迎 来到 联合国 , 您 的 世界 ! ||| Welcome to the United...</td>\n",
       "    </tr>\n",
       "    <tr>\n",
       "      <th>3</th>\n",
       "      <td>联合国 搜索 ||| UN Search</td>\n",
       "    </tr>\n",
       "    <tr>\n",
       "      <th>4</th>\n",
       "      <td>联合国 : 我 联合国 人民 , 团结 起来 追求 更 美好 的 世界 ! ||| Unit...</td>\n",
       "    </tr>\n",
       "  </tbody>\n",
       "</table>\n",
       "</div>"
      ],
      "text/plain": [
       "                                               final\n",
       "0        欢迎 来到 联合国 ||| Welcome to the United Nations\n",
       "1                  跳 转 到 相关 资源 ||| Skip to resources\n",
       "2  欢迎 来到 联合国 , 您 的 世界 ! ||| Welcome to the United...\n",
       "3                               联合国 搜索 ||| UN Search\n",
       "4  联合国 : 我 联合国 人民 , 团结 起来 追求 更 美好 的 世界 ! ||| Unit..."
      ]
     },
     "execution_count": 60,
     "metadata": {},
     "output_type": "execute_result"
    }
   ],
   "source": [
    "data.head()"
   ]
  },
  {
   "cell_type": "code",
   "execution_count": 61,
   "id": "110dd253",
   "metadata": {},
   "outputs": [],
   "source": [
    "first_ten = data.head(1000000)"
   ]
  },
  {
   "cell_type": "code",
   "execution_count": 62,
   "id": "de302f62",
   "metadata": {},
   "outputs": [
    {
     "name": "stderr",
     "output_type": "stream",
     "text": [
      "/var/folders/dg/_9r600ts4zvfks0mym4plplh0000gn/T/ipykernel_10315/3575953574.py:1: SettingWithCopyWarning: \n",
      "A value is trying to be set on a copy of a slice from a DataFrame.\n",
      "Try using .loc[row_indexer,col_indexer] = value instead\n",
      "\n",
      "See the caveats in the documentation: https://pandas.pydata.org/pandas-docs/stable/user_guide/indexing.html#returning-a-view-versus-a-copy\n",
      "  first_ten[\"source\"] = first_ten[\"final\"].apply(lambda x: x.split(\" ||| \")[0])\n",
      "/var/folders/dg/_9r600ts4zvfks0mym4plplh0000gn/T/ipykernel_10315/3575953574.py:2: SettingWithCopyWarning: \n",
      "A value is trying to be set on a copy of a slice from a DataFrame.\n",
      "Try using .loc[row_indexer,col_indexer] = value instead\n",
      "\n",
      "See the caveats in the documentation: https://pandas.pydata.org/pandas-docs/stable/user_guide/indexing.html#returning-a-view-versus-a-copy\n",
      "  first_ten[\"target\"] = first_ten[\"final\"].apply(lambda x: x.split(\" ||| \")[1])\n"
     ]
    }
   ],
   "source": [
    "first_ten[\"source\"] = first_ten[\"final\"].apply(lambda x: x.split(\" ||| \")[0])\n",
    "first_ten[\"target\"] = first_ten[\"final\"].apply(lambda x: x.split(\" ||| \")[1])"
   ]
  },
  {
   "cell_type": "code",
   "execution_count": 63,
   "id": "30b876c5",
   "metadata": {},
   "outputs": [
    {
     "data": {
      "text/html": [
       "<div>\n",
       "<style scoped>\n",
       "    .dataframe tbody tr th:only-of-type {\n",
       "        vertical-align: middle;\n",
       "    }\n",
       "\n",
       "    .dataframe tbody tr th {\n",
       "        vertical-align: top;\n",
       "    }\n",
       "\n",
       "    .dataframe thead th {\n",
       "        text-align: right;\n",
       "    }\n",
       "</style>\n",
       "<table border=\"1\" class=\"dataframe\">\n",
       "  <thead>\n",
       "    <tr style=\"text-align: right;\">\n",
       "      <th></th>\n",
       "      <th>final</th>\n",
       "      <th>source</th>\n",
       "      <th>target</th>\n",
       "    </tr>\n",
       "  </thead>\n",
       "  <tbody>\n",
       "    <tr>\n",
       "      <th>0</th>\n",
       "      <td>欢迎 来到 联合国 ||| Welcome to the United Nations</td>\n",
       "      <td>欢迎 来到 联合国</td>\n",
       "      <td>Welcome to the United Nations</td>\n",
       "    </tr>\n",
       "    <tr>\n",
       "      <th>1</th>\n",
       "      <td>跳 转 到 相关 资源 ||| Skip to resources</td>\n",
       "      <td>跳 转 到 相关 资源</td>\n",
       "      <td>Skip to resources</td>\n",
       "    </tr>\n",
       "    <tr>\n",
       "      <th>2</th>\n",
       "      <td>欢迎 来到 联合国 , 您 的 世界 ! ||| Welcome to the United...</td>\n",
       "      <td>欢迎 来到 联合国 , 您 的 世界 !</td>\n",
       "      <td>Welcome to the United Nations. It's your world.</td>\n",
       "    </tr>\n",
       "    <tr>\n",
       "      <th>3</th>\n",
       "      <td>联合国 搜索 ||| UN Search</td>\n",
       "      <td>联合国 搜索</td>\n",
       "      <td>UN Search</td>\n",
       "    </tr>\n",
       "    <tr>\n",
       "      <th>4</th>\n",
       "      <td>联合国 : 我 联合国 人民 , 团结 起来 追求 更 美好 的 世界 ! ||| Unit...</td>\n",
       "      <td>联合国 : 我 联合国 人民 , 团结 起来 追求 更 美好 的 世界 !</td>\n",
       "      <td>United Nations: We the peoples... A stronger U...</td>\n",
       "    </tr>\n",
       "  </tbody>\n",
       "</table>\n",
       "</div>"
      ],
      "text/plain": [
       "                                               final  \\\n",
       "0        欢迎 来到 联合国 ||| Welcome to the United Nations   \n",
       "1                  跳 转 到 相关 资源 ||| Skip to resources   \n",
       "2  欢迎 来到 联合国 , 您 的 世界 ! ||| Welcome to the United...   \n",
       "3                               联合国 搜索 ||| UN Search   \n",
       "4  联合国 : 我 联合国 人民 , 团结 起来 追求 更 美好 的 世界 ! ||| Unit...   \n",
       "\n",
       "                                  source  \\\n",
       "0                              欢迎 来到 联合国   \n",
       "1                            跳 转 到 相关 资源   \n",
       "2                   欢迎 来到 联合国 , 您 的 世界 !   \n",
       "3                                 联合国 搜索   \n",
       "4  联合国 : 我 联合国 人民 , 团结 起来 追求 更 美好 的 世界 !   \n",
       "\n",
       "                                              target  \n",
       "0                      Welcome to the United Nations  \n",
       "1                                  Skip to resources  \n",
       "2    Welcome to the United Nations. It's your world.  \n",
       "3                                          UN Search  \n",
       "4  United Nations: We the peoples... A stronger U...  "
      ]
     },
     "execution_count": 63,
     "metadata": {},
     "output_type": "execute_result"
    }
   ],
   "source": [
    "first_ten.head()"
   ]
  },
  {
   "cell_type": "code",
   "execution_count": 64,
   "id": "735493a3",
   "metadata": {},
   "outputs": [],
   "source": [
    "first_ten[\"source\"].head(800000).to_csv(\n",
    "    path_or_buf=\"../../data/cleaned_data/train.src\", sep=\"\\t\", header=False, index=False\n",
    ")\n",
    "first_ten[\"source\"].tail(200000).to_csv(\n",
    "    path_or_buf=\"../../data/cleaned_data/dev.src\", sep=\"\\t\", header=False, index=False\n",
    ")"
   ]
  },
  {
   "cell_type": "code",
   "execution_count": 65,
   "id": "382f995a",
   "metadata": {},
   "outputs": [],
   "source": [
    "first_ten[\"target\"].head(800000).to_csv(\n",
    "    path_or_buf=\"../../data/cleaned_data/train.tgt\", sep=\"\\t\", header=False, index=False\n",
    ")\n",
    "first_ten[\"target\"].tail(200000).to_csv(\n",
    "    path_or_buf=\"../../data/cleaned_data/dev.tgt\", sep=\"\\t\", header=False, index=False\n",
    ")"
   ]
  },
  {
   "cell_type": "code",
   "execution_count": 66,
   "id": "9ebe4a5a",
   "metadata": {},
   "outputs": [],
   "source": [
    "sample_alignments = pd.read_csv(\n",
    "    \"../../data/cleaned_data/awesome_alignments.txt\", sep=\"\\t\", header=None\n",
    ").head(1000000)"
   ]
  },
  {
   "cell_type": "code",
   "execution_count": 67,
   "id": "b3b58204",
   "metadata": {},
   "outputs": [
    {
     "data": {
      "text/html": [
       "<div>\n",
       "<style scoped>\n",
       "    .dataframe tbody tr th:only-of-type {\n",
       "        vertical-align: middle;\n",
       "    }\n",
       "\n",
       "    .dataframe tbody tr th {\n",
       "        vertical-align: top;\n",
       "    }\n",
       "\n",
       "    .dataframe thead th {\n",
       "        text-align: right;\n",
       "    }\n",
       "</style>\n",
       "<table border=\"1\" class=\"dataframe\">\n",
       "  <thead>\n",
       "    <tr style=\"text-align: right;\">\n",
       "      <th></th>\n",
       "      <th>0</th>\n",
       "    </tr>\n",
       "  </thead>\n",
       "  <tbody>\n",
       "    <tr>\n",
       "      <th>0</th>\n",
       "      <td>2-3 1-1 2-4 0-0</td>\n",
       "    </tr>\n",
       "    <tr>\n",
       "      <th>1</th>\n",
       "      <td>1-0 2-1 4-2 0-0</td>\n",
       "    </tr>\n",
       "    <tr>\n",
       "      <th>2</th>\n",
       "      <td>0-7 2-4 3-4 7-7 0-0 1-1 4-6 2-3 6-7</td>\n",
       "    </tr>\n",
       "    <tr>\n",
       "      <th>3</th>\n",
       "      <td>1-1 0-0</td>\n",
       "    </tr>\n",
       "    <tr>\n",
       "      <th>4</th>\n",
       "      <td>0-1 4-4 8-8 9-10 0-0 1-1 11-9 2-2 12-11 13-11 ...</td>\n",
       "    </tr>\n",
       "  </tbody>\n",
       "</table>\n",
       "</div>"
      ],
      "text/plain": [
       "                                                   0\n",
       "0                                    2-3 1-1 2-4 0-0\n",
       "1                                    1-0 2-1 4-2 0-0\n",
       "2                0-7 2-4 3-4 7-7 0-0 1-1 4-6 2-3 6-7\n",
       "3                                            1-1 0-0\n",
       "4  0-1 4-4 8-8 9-10 0-0 1-1 11-9 2-2 12-11 13-11 ..."
      ]
     },
     "execution_count": 67,
     "metadata": {},
     "output_type": "execute_result"
    }
   ],
   "source": [
    "sample_alignments.head()"
   ]
  },
  {
   "cell_type": "code",
   "execution_count": 68,
   "id": "b5676efb",
   "metadata": {},
   "outputs": [],
   "source": [
    "sample_alignments.head(800000).to_csv(\n",
    "    path_or_buf=\"../../data/cleaned_data/train.talp\",\n",
    "    sep=\"\\t\",\n",
    "    header=False,\n",
    "    index=False,\n",
    ")\n",
    "sample_alignments.tail(200000).to_csv(\n",
    "    path_or_buf=\"../../data/cleaned_data/dev.talp\",\n",
    "    sep=\"\\t\",\n",
    "    header=False,\n",
    "    index=False,\n",
    ")"
   ]
  },
  {
   "cell_type": "code",
   "execution_count": null,
   "id": "8a9e9483",
   "metadata": {},
   "outputs": [],
   "source": []
  },
  {
   "cell_type": "code",
   "execution_count": null,
   "id": "352e9c5f",
   "metadata": {},
   "outputs": [],
   "source": []
  },
  {
   "cell_type": "code",
   "execution_count": null,
   "id": "99b388b9",
   "metadata": {},
   "outputs": [],
   "source": []
  },
  {
   "cell_type": "code",
   "execution_count": null,
   "id": "dc48c827",
   "metadata": {},
   "outputs": [],
   "source": []
  }
 ],
 "metadata": {
  "kernelspec": {
   "display_name": "binary-align-zh",
   "language": "python",
   "name": "python3"
  },
  "language_info": {
   "codemirror_mode": {
    "name": "ipython",
    "version": 3
   },
   "file_extension": ".py",
   "mimetype": "text/x-python",
   "name": "python",
   "nbconvert_exporter": "python",
   "pygments_lexer": "ipython3",
   "version": "3.12.2"
  }
 },
 "nbformat": 4,
 "nbformat_minor": 5
}
