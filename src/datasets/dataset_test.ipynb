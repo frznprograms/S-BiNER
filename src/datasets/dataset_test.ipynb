{
 "cells": [
  {
   "cell_type": "code",
   "execution_count": 1,
   "id": "19775aed",
   "metadata": {},
   "outputs": [
    {
     "name": "stdout",
     "output_type": "stream",
     "text": [
      "Added to Python path: /Users/shaneryan_1/Downloads/binary_align_zh\n",
      "Current working directory: /Users/shaneryan_1/Downloads/binary_align_zh/src/datasets\n",
      "✅ 'src' directory found - imports should work now\n"
     ]
    }
   ],
   "source": [
    "import sys\n",
    "from pathlib import Path\n",
    "\n",
    "# Add project root to Python path\n",
    "current_dir = Path.cwd()\n",
    "project_root = (\n",
    "    current_dir.parent.parent if current_dir.name == \"datasets\" else current_dir\n",
    ")\n",
    "sys.path.insert(0, str(project_root))\n",
    "\n",
    "print(f\"Added to Python path: {project_root}\")\n",
    "print(f\"Current working directory: {current_dir}\")\n",
    "\n",
    "# Verify the fix worked\n",
    "if (project_root / \"src\").exists():\n",
    "    print(\"✅ 'src' directory found - imports should work now\")\n",
    "else:\n",
    "    print(\"❌ 'src' directory not found - check your project structure\")"
   ]
  },
  {
   "cell_type": "code",
   "execution_count": 2,
   "id": "47bca8bf",
   "metadata": {},
   "outputs": [
    {
     "name": "stdout",
     "output_type": "stream",
     "text": [
      "/Users/shaneryan_1/Downloads/binary_align_zh/src/datasets\n"
     ]
    }
   ],
   "source": [
    "print(Path.cwd())"
   ]
  },
  {
   "cell_type": "code",
   "execution_count": null,
   "id": "ac0b03c5",
   "metadata": {},
   "outputs": [
    {
     "name": "stderr",
     "output_type": "stream",
     "text": [
      "/Users/shaneryan_1/Downloads/binary_align_zh/.venv/lib/python3.12/site-packages/tqdm/auto.py:21: TqdmWarning: IProgress not found. Please update jupyter and ipywidgets. See https://ipywidgets.readthedocs.io/en/stable/user_install.html\n",
      "  from .autonotebook import tqdm as notebook_tqdm\n"
     ]
    }
   ],
   "source": [
    "# import pandas as pd\n",
    "from src.datasets.datasets import AlignmentDataset\n",
    "from src.utils.helpers import load_data\n",
    "from transformers import XLMRobertaTokenizerFast\n",
    "from configs.pipeline_configs import PipelineConfig"
   ]
  },
  {
   "cell_type": "code",
   "execution_count": 6,
   "id": "69087553",
   "metadata": {},
   "outputs": [],
   "source": [
    "data_path_dict = {\n",
    "    \"src_data\": \"../../data/english.txt\",\n",
    "    \"tgt_data\": \"../../data/chinese.txt\",\n",
    "    \"align_data\": \"../../data/alignment.txt\",\n",
    "}"
   ]
  },
  {
   "cell_type": "code",
   "execution_count": 7,
   "id": "66046396",
   "metadata": {},
   "outputs": [],
   "source": [
    "src_data, tgt_data, align_data = load_data(paths=data_path_dict)"
   ]
  },
  {
   "cell_type": "code",
   "execution_count": 8,
   "id": "625b9fd9",
   "metadata": {},
   "outputs": [
    {
     "data": {
      "text/plain": [
       "str"
      ]
     },
     "execution_count": 8,
     "metadata": {},
     "output_type": "execute_result"
    }
   ],
   "source": [
    "type(tgt_data[0])"
   ]
  },
  {
   "cell_type": "code",
   "execution_count": 9,
   "id": "cdc27d3c",
   "metadata": {},
   "outputs": [
    {
     "data": {
      "text/plain": [
       "\"the 66-year-old geoghan was recently sentenced to 10 years ' imprisonment for his sexual molestation of a 10-year-old boy in 1991 .\""
      ]
     },
     "execution_count": 9,
     "metadata": {},
     "output_type": "execute_result"
    }
   ],
   "source": [
    "src_data[0]"
   ]
  },
  {
   "cell_type": "code",
   "execution_count": null,
   "id": "a6d472b0",
   "metadata": {},
   "outputs": [],
   "source": [
    "p_config = PipelineConfig(\n",
    "    output_dir=Path(\"output\"), log_dir=Path(\"logs\"), save_checkpoint=False\n",
    ")"
   ]
  },
  {
   "cell_type": "code",
   "execution_count": 9,
   "id": "ed89a28b",
   "metadata": {},
   "outputs": [
    {
     "name": "stderr",
     "output_type": "stream",
     "text": [
      "\u001b[32m 22:31:04\u001b[0m | \u001b[32m\u001b[1mSUCCESS \u001b[0m |                 \u001b[36msrc.utils.logger_config\u001b[0m:\u001b[36msetup_logger\u001b[0m:\u001b[36m64\u001b[0m - \u001b[32m\u001b[1mLogger initialized. Logs will be saved to logs\u001b[0m\n",
      "\u001b[32m 22:31:04\u001b[0m | \u001b[1mINFO    \u001b[0m |                 \u001b[36msrc.datasets.datasets\u001b[0m:\u001b[36m__post_init__\u001b[0m:\u001b[36m39\u001b[0m - \u001b[1mStarting AlignmentDataset step...\u001b[0m\n",
      "\u001b[32m 22:31:04\u001b[0m | \u001b[32m\u001b[1mSUCCESS \u001b[0m |                 \u001b[36msrc.datasets.datasets\u001b[0m:\u001b[36m__post_init__\u001b[0m:\u001b[36m40\u001b[0m - \u001b[32m\u001b[1mAlignmentDataset initialised.\u001b[0m\n",
      "\u001b[32m 22:31:04\u001b[0m | \u001b[1mINFO    \u001b[0m |                 \u001b[36msrc.datasets.datasets\u001b[0m:\u001b[36m__post_init__\u001b[0m:\u001b[36m42\u001b[0m - \u001b[1mPreparing dataset...\u001b[0m\n",
      "  0%|          | 0/38748 [00:00<?, ?it/s]You're using a XLMRobertaTokenizerFast tokenizer. Please note that with a fast tokenizer, using the `__call__` method is faster than using a method to encode the text followed by a call to the `pad` method to get a padded encoding.\n",
      "  0%|          | 11/38748 [00:00<09:32, 67.65it/s]\n"
     ]
    }
   ],
   "source": [
    "a = AlignmentDataset(\n",
    "    tokenizer=XLMRobertaTokenizerFast.from_pretrained(\"xlm-roberta-base\"),\n",
    "    source_lines=src_data,\n",
    "    target_lines=tgt_data,\n",
    "    alignments=align_data,\n",
    "    config=p_config,\n",
    ")"
   ]
  },
  {
   "cell_type": "code",
   "execution_count": null,
   "id": "e78d5ae4",
   "metadata": {},
   "outputs": [],
   "source": []
  },
  {
   "cell_type": "markdown",
   "id": "8a6d80d5",
   "metadata": {},
   "source": []
  },
  {
   "cell_type": "code",
   "execution_count": null,
   "id": "25e1a1c6",
   "metadata": {},
   "outputs": [],
   "source": []
  }
 ],
 "metadata": {
  "kernelspec": {
   "display_name": ".venv",
   "language": "python",
   "name": "python3"
  },
  "language_info": {
   "codemirror_mode": {
    "name": "ipython",
    "version": 3
   },
   "file_extension": ".py",
   "mimetype": "text/x-python",
   "name": "python",
   "nbconvert_exporter": "python",
   "pygments_lexer": "ipython3",
   "version": "3.12.2"
  }
 },
 "nbformat": 4,
 "nbformat_minor": 5
}
