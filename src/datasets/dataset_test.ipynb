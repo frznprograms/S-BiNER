{
 "cells": [
  {
   "cell_type": "code",
   "execution_count": 1,
   "id": "19775aed",
   "metadata": {},
   "outputs": [
    {
     "name": "stdout",
     "output_type": "stream",
     "text": [
      "Added to Python path: /Users/shaneryan_1/Downloads/binary_align_zh\n",
      "Current working directory: /Users/shaneryan_1/Downloads/binary_align_zh/src/datasets\n",
      "✅ 'src' directory found - imports should work now\n"
     ]
    }
   ],
   "source": [
    "import sys\n",
    "from pathlib import Path\n",
    "\n",
    "# Add project root to Python path\n",
    "current_dir = Path.cwd()\n",
    "project_root = (\n",
    "    current_dir.parent.parent if current_dir.name == \"datasets\" else current_dir\n",
    ")\n",
    "sys.path.insert(0, str(project_root))\n",
    "\n",
    "print(f\"Added to Python path: {project_root}\")\n",
    "print(f\"Current working directory: {current_dir}\")\n",
    "\n",
    "# Verify the fix worked\n",
    "if (project_root / \"src\").exists():\n",
    "    print(\"✅ 'src' directory found - imports should work now\")\n",
    "else:\n",
    "    print(\"❌ 'src' directory not found - check your project structure\")"
   ]
  },
  {
   "cell_type": "code",
   "execution_count": 2,
   "id": "47bca8bf",
   "metadata": {},
   "outputs": [
    {
     "name": "stdout",
     "output_type": "stream",
     "text": [
      "/Users/shaneryan_1/Downloads/binary_align_zh/src/datasets\n"
     ]
    }
   ],
   "source": [
    "print(Path.cwd())"
   ]
  },
  {
   "cell_type": "code",
   "execution_count": 3,
   "id": "ac0b03c5",
   "metadata": {},
   "outputs": [
    {
     "name": "stderr",
     "output_type": "stream",
     "text": [
      "/Users/shaneryan_1/Downloads/binary_align_zh/.venv/lib/python3.12/site-packages/tqdm/auto.py:21: TqdmWarning: IProgress not found. Please update jupyter and ipywidgets. See https://ipywidgets.readthedocs.io/en/stable/user_install.html\n",
      "  from .autonotebook import tqdm as notebook_tqdm\n"
     ]
    }
   ],
   "source": [
    "# import pandas as pd\n",
    "from src.datasets.datasets import AlignmentDataset\n",
    "from src.utils.helpers import load_data\n",
    "from transformers import XLMRobertaTokenizerFast\n",
    "from configs.pipeline_configs import PipelineConfig"
   ]
  },
  {
   "cell_type": "code",
   "execution_count": 4,
   "id": "69087553",
   "metadata": {},
   "outputs": [],
   "source": [
    "data_path_dict = {\n",
    "    \"src_data\": \"../../data/english.txt\",\n",
    "    \"tgt_data\": \"../../data/chinese.txt\",\n",
    "    \"align_data\": \"../../data/alignment.txt\",\n",
    "}"
   ]
  },
  {
   "cell_type": "code",
   "execution_count": 5,
   "id": "66046396",
   "metadata": {},
   "outputs": [],
   "source": [
    "src_data, tgt_data, align_data = load_data(paths=data_path_dict)"
   ]
  },
  {
   "cell_type": "code",
   "execution_count": 6,
   "id": "625b9fd9",
   "metadata": {},
   "outputs": [
    {
     "data": {
      "text/plain": [
       "str"
      ]
     },
     "execution_count": 6,
     "metadata": {},
     "output_type": "execute_result"
    }
   ],
   "source": [
    "type(tgt_data[0])"
   ]
  },
  {
   "cell_type": "code",
   "execution_count": 7,
   "id": "cdc27d3c",
   "metadata": {},
   "outputs": [
    {
     "data": {
      "text/plain": [
       "\"the 66-year-old geoghan was recently sentenced to 10 years ' imprisonment for his sexual molestation of a 10-year-old boy in 1991 .\""
      ]
     },
     "execution_count": 7,
     "metadata": {},
     "output_type": "execute_result"
    }
   ],
   "source": [
    "src_data[0]"
   ]
  },
  {
   "cell_type": "code",
   "execution_count": 8,
   "id": "a6d472b0",
   "metadata": {},
   "outputs": [],
   "source": [
    "p_config = PipelineConfig(\n",
    "    output_dir=Path(\"output\"), log_dir=Path(\"logs\"), save_checkpoint=False\n",
    ")"
   ]
  },
  {
   "cell_type": "code",
   "execution_count": 9,
   "id": "ed89a28b",
   "metadata": {},
   "outputs": [
    {
     "name": "stderr",
     "output_type": "stream",
     "text": [
      "\u001b[32m 21:30:23\u001b[0m | \u001b[32m\u001b[1mSUCCESS \u001b[0m |                 \u001b[36msrc.utils.logger_config\u001b[0m:\u001b[36msetup_logger\u001b[0m:\u001b[36m64\u001b[0m - \u001b[32m\u001b[1mLogger initialized. Logs will be saved to logs\u001b[0m\n",
      "\u001b[32m 21:30:23\u001b[0m | \u001b[1mINFO    \u001b[0m |                 \u001b[36msrc.datasets.datasets\u001b[0m:\u001b[36m__post_init__\u001b[0m:\u001b[36m37\u001b[0m - \u001b[1mStarting AlignmentDataset step...\u001b[0m\n",
      "\u001b[32m 21:30:23\u001b[0m | \u001b[32m\u001b[1mSUCCESS \u001b[0m |                 \u001b[36msrc.datasets.datasets\u001b[0m:\u001b[36m__post_init__\u001b[0m:\u001b[36m38\u001b[0m - \u001b[32m\u001b[1mAlignmentDataset initialised.\u001b[0m\n",
      "\u001b[32m 21:30:23\u001b[0m | \u001b[1mINFO    \u001b[0m |                 \u001b[36msrc.datasets.datasets\u001b[0m:\u001b[36m__post_init__\u001b[0m:\u001b[36m40\u001b[0m - \u001b[1mPreparing dataset...\u001b[0m\n",
      "  0%|          | 0/38748 [00:00<?, ?it/s]You're using a XLMRobertaTokenizerFast tokenizer. Please note that with a fast tokenizer, using the `__call__` method is faster than using a method to encode the text followed by a call to the `pad` method to get a padded encoding.\n",
      " 21%|██        | 8179/38748 [02:33<02:53, 176.01it/s] "
     ]
    },
    {
     "ename": "RuntimeError",
     "evalue": "The size of tensor a (2802) must match the size of tensor b (255) at non-singleton dimension 0",
     "output_type": "error",
     "traceback": [
      "\u001b[31m---------------------------------------------------------------------------\u001b[39m",
      "\u001b[31mRuntimeError\u001b[39m                              Traceback (most recent call last)",
      "\u001b[36mCell\u001b[39m\u001b[36m \u001b[39m\u001b[32mIn[9]\u001b[39m\u001b[32m, line 1\u001b[39m\n\u001b[32m----> \u001b[39m\u001b[32m1\u001b[39m a = \u001b[43mAlignmentDataset\u001b[49m\u001b[43m(\u001b[49m\n\u001b[32m      2\u001b[39m \u001b[43m    \u001b[49m\u001b[43mtokenizer\u001b[49m\u001b[43m=\u001b[49m\u001b[43mXLMRobertaTokenizerFast\u001b[49m\u001b[43m.\u001b[49m\u001b[43mfrom_pretrained\u001b[49m\u001b[43m(\u001b[49m\u001b[33;43m\"\u001b[39;49m\u001b[33;43mxlm-roberta-base\u001b[39;49m\u001b[33;43m\"\u001b[39;49m\u001b[43m)\u001b[49m\u001b[43m,\u001b[49m\n\u001b[32m      3\u001b[39m \u001b[43m    \u001b[49m\u001b[43msource_lines\u001b[49m\u001b[43m=\u001b[49m\u001b[43msrc_data\u001b[49m\u001b[43m,\u001b[49m\n\u001b[32m      4\u001b[39m \u001b[43m    \u001b[49m\u001b[43mtarget_lines\u001b[49m\u001b[43m=\u001b[49m\u001b[43mtgt_data\u001b[49m\u001b[43m,\u001b[49m\n\u001b[32m      5\u001b[39m \u001b[43m    \u001b[49m\u001b[43malignments\u001b[49m\u001b[43m=\u001b[49m\u001b[43malign_data\u001b[49m\u001b[43m,\u001b[49m\n\u001b[32m      6\u001b[39m \u001b[43m    \u001b[49m\u001b[43mconfig\u001b[49m\u001b[43m=\u001b[49m\u001b[43mp_config\u001b[49m\u001b[43m,\u001b[49m\n\u001b[32m      7\u001b[39m \u001b[43m)\u001b[49m\n",
      "\u001b[36mFile \u001b[39m\u001b[32m<string>:14\u001b[39m, in \u001b[36m__init__\u001b[39m\u001b[34m(self, tokenizer, source_lines, target_lines, alignments, config, one_indexed, context_sep, do_inference)\u001b[39m\n",
      "\u001b[36mFile \u001b[39m\u001b[32m~/Downloads/binary_align_zh/src/datasets/datasets.py:41\u001b[39m, in \u001b[36mAlignmentDataset.__post_init__\u001b[39m\u001b[34m(self)\u001b[39m\n\u001b[32m     38\u001b[39m logger.success(\u001b[33m\"\u001b[39m\u001b[33mAlignmentDataset initialised.\u001b[39m\u001b[33m\"\u001b[39m)\n\u001b[32m     40\u001b[39m logger.info(\u001b[33m\"\u001b[39m\u001b[33mPreparing dataset...\u001b[39m\u001b[33m\"\u001b[39m)\n\u001b[32m---> \u001b[39m\u001b[32m41\u001b[39m \u001b[38;5;28;43mself\u001b[39;49m\u001b[43m.\u001b[49m\u001b[43mexecute\u001b[49m\u001b[43m(\u001b[49m\n\u001b[32m     42\u001b[39m \u001b[43m    \u001b[49m\u001b[43msource_lines\u001b[49m\u001b[43m=\u001b[49m\u001b[38;5;28;43mself\u001b[39;49m\u001b[43m.\u001b[49m\u001b[43msource_lines\u001b[49m\u001b[43m,\u001b[49m\n\u001b[32m     43\u001b[39m \u001b[43m    \u001b[49m\u001b[43mtarget_lines\u001b[49m\u001b[43m=\u001b[49m\u001b[38;5;28;43mself\u001b[39;49m\u001b[43m.\u001b[49m\u001b[43mtarget_lines\u001b[49m\u001b[43m,\u001b[49m\n\u001b[32m     44\u001b[39m \u001b[43m    \u001b[49m\u001b[43malignments\u001b[49m\u001b[43m=\u001b[49m\u001b[38;5;28;43mself\u001b[39;49m\u001b[43m.\u001b[49m\u001b[43malignments\u001b[49m\u001b[43m,\u001b[49m\n\u001b[32m     45\u001b[39m \u001b[43m    \u001b[49m\u001b[43mdata\u001b[49m\u001b[43m=\u001b[49m\u001b[38;5;28;43mself\u001b[39;49m\u001b[43m.\u001b[49m\u001b[43mdata\u001b[49m\u001b[43m,\u001b[49m\n\u001b[32m     46\u001b[39m \u001b[43m\u001b[49m\u001b[43m)\u001b[49m\n\u001b[32m     47\u001b[39m \u001b[38;5;28mself\u001b[39m.execute(\n\u001b[32m     48\u001b[39m     source_lines=\u001b[38;5;28mself\u001b[39m.source_lines,\n\u001b[32m     49\u001b[39m     target_lines=\u001b[38;5;28mself\u001b[39m.target_lines,\n\u001b[32m   (...)\u001b[39m\u001b[32m     52\u001b[39m     reverse=\u001b[38;5;28;01mTrue\u001b[39;00m,\n\u001b[32m     53\u001b[39m )\n\u001b[32m     55\u001b[39m \u001b[38;5;66;03m# create bidirectional data\u001b[39;00m\n",
      "\u001b[36mFile \u001b[39m\u001b[32m~/Downloads/binary_align_zh/src/datasets/datasets.py:187\u001b[39m, in \u001b[36mAlignmentDataset.execute\u001b[39m\u001b[34m(self, source_lines, target_lines, alignments, data, reverse)\u001b[39m\n\u001b[32m    180\u001b[39m     wsrc, wtgt = (\n\u001b[32m    181\u001b[39m         (\u001b[38;5;28mint\u001b[39m(source_idx), \u001b[38;5;28mint\u001b[39m(target_idx))\n\u001b[32m    182\u001b[39m         \u001b[38;5;28;01mif\u001b[39;00m \u001b[38;5;28mself\u001b[39m.one_indexed\n\u001b[32m    183\u001b[39m         \u001b[38;5;28;01melse\u001b[39;00m (\u001b[38;5;28mint\u001b[39m(source_idx) - \u001b[32m1\u001b[39m, \u001b[38;5;28mint\u001b[39m(target_idx) - \u001b[32m1\u001b[39m)\n\u001b[32m    184\u001b[39m     )\n\u001b[32m    186\u001b[39m \u001b[38;5;28;01mif\u001b[39;00m wsrc < \u001b[38;5;28mlen\u001b[39m(target_labels):\n\u001b[32m--> \u001b[39m\u001b[32m187\u001b[39m     target_labels[wsrc, :] = \u001b[43mtorch\u001b[49m\u001b[43m.\u001b[49m\u001b[43mwhere\u001b[49m\u001b[43m(\u001b[49m\n\u001b[32m    188\u001b[39m \u001b[43m        \u001b[49m\u001b[43mtarget_bpe2word\u001b[49m\u001b[43m \u001b[49m\u001b[43m==\u001b[49m\u001b[43m \u001b[49m\u001b[43mwtgt\u001b[49m\u001b[43m,\u001b[49m\u001b[43m \u001b[49m\u001b[32;43m1\u001b[39;49m\u001b[43m,\u001b[49m\u001b[43m \u001b[49m\u001b[43mtarget_labels\u001b[49m\u001b[43m[\u001b[49m\u001b[43mwsrc\u001b[49m\u001b[43m,\u001b[49m\u001b[43m \u001b[49m\u001b[43m:\u001b[49m\u001b[43m]\u001b[49m\n\u001b[32m    189\u001b[39m \u001b[43m    \u001b[49m\u001b[43m)\u001b[49m\n\u001b[32m    191\u001b[39m \u001b[38;5;28;01mif\u001b[39;00m \u001b[38;5;129;01mnot\u001b[39;00m reverse:\n\u001b[32m    192\u001b[39m     alignment_tuple = (wsrc, wtgt)\n",
      "\u001b[31mRuntimeError\u001b[39m: The size of tensor a (2802) must match the size of tensor b (255) at non-singleton dimension 0"
     ]
    },
    {
     "name": "stderr",
     "output_type": "stream",
     "text": [
      " 21%|██        | 8187/38748 [02:50<02:53, 176.01it/s]"
     ]
    }
   ],
   "source": [
    "a = AlignmentDataset(\n",
    "    tokenizer=XLMRobertaTokenizerFast.from_pretrained(\"xlm-roberta-base\"),\n",
    "    source_lines=src_data,\n",
    "    target_lines=tgt_data,\n",
    "    alignments=align_data,\n",
    "    config=p_config,\n",
    ")"
   ]
  },
  {
   "cell_type": "code",
   "execution_count": null,
   "id": "e78d5ae4",
   "metadata": {},
   "outputs": [],
   "source": []
  },
  {
   "cell_type": "markdown",
   "id": "8a6d80d5",
   "metadata": {},
   "source": []
  },
  {
   "cell_type": "code",
   "execution_count": null,
   "id": "25e1a1c6",
   "metadata": {},
   "outputs": [],
   "source": []
  }
 ],
 "metadata": {
  "kernelspec": {
   "display_name": ".venv",
   "language": "python",
   "name": "python3"
  },
  "language_info": {
   "codemirror_mode": {
    "name": "ipython",
    "version": 3
   },
   "file_extension": ".py",
   "mimetype": "text/x-python",
   "name": "python",
   "nbconvert_exporter": "python",
   "pygments_lexer": "ipython3",
   "version": "3.12.2"
  }
 },
 "nbformat": 4,
 "nbformat_minor": 5
}
